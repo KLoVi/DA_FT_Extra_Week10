{
 "cells": [
  {
   "cell_type": "markdown",
   "id": "dd0301fa",
   "metadata": {},
   "source": [
    "Create a Python program that takes a user input, checks if it is present in your scraped DataFrame.\n",
    "  - If it is, it recommends a random song from the DataFrame.\n",
    "  - If it’s not, it prints: `Sorry, your song is not popular`.\n",
    "  - *Important note*: For now, you will not use the DataFrame of audio features you created yesterday.\n"
   ]
  },
  {
   "cell_type": "code",
   "execution_count": 2,
   "id": "d00e53b0",
   "metadata": {},
   "outputs": [],
   "source": [
    "import pandas as pd"
   ]
  },
  {
   "cell_type": "code",
   "execution_count": 44,
   "id": "6eeade3b",
   "metadata": {},
   "outputs": [],
   "source": [
    "from fuzzywuzzy import process"
   ]
  },
  {
   "cell_type": "code",
   "execution_count": 45,
   "id": "c6d184b3",
   "metadata": {},
   "outputs": [],
   "source": [
    "import random"
   ]
  },
  {
   "cell_type": "code",
   "execution_count": 6,
   "id": "0f3a2a1d",
   "metadata": {},
   "outputs": [],
   "source": [
    "url_1 = \"/Users/karollvivianalopezvillegas/GitHub/DA_FT_Extra_Week10/Week_10/Billboard_100.csv\""
   ]
  },
  {
   "cell_type": "code",
   "execution_count": 7,
   "id": "33efd562",
   "metadata": {},
   "outputs": [],
   "source": [
    "df_b = pd.read_csv(url_1)"
   ]
  },
  {
   "cell_type": "code",
   "execution_count": 8,
   "id": "6ed961a2",
   "metadata": {},
   "outputs": [
    {
     "data": {
      "text/html": [
       "<div>\n",
       "<style scoped>\n",
       "    .dataframe tbody tr th:only-of-type {\n",
       "        vertical-align: middle;\n",
       "    }\n",
       "\n",
       "    .dataframe tbody tr th {\n",
       "        vertical-align: top;\n",
       "    }\n",
       "\n",
       "    .dataframe thead th {\n",
       "        text-align: right;\n",
       "    }\n",
       "</style>\n",
       "<table border=\"1\" class=\"dataframe\">\n",
       "  <thead>\n",
       "    <tr style=\"text-align: right;\">\n",
       "      <th></th>\n",
       "      <th>song</th>\n",
       "      <th>artist</th>\n",
       "    </tr>\n",
       "  </thead>\n",
       "  <tbody>\n",
       "    <tr>\n",
       "      <th>0</th>\n",
       "      <td>A Bar Song (Tipsy)</td>\n",
       "      <td>Shaboozey</td>\n",
       "    </tr>\n",
       "    <tr>\n",
       "      <th>1</th>\n",
       "      <td>I Had Some Help</td>\n",
       "      <td>Post Malone Featuring Morgan Wallen</td>\n",
       "    </tr>\n",
       "    <tr>\n",
       "      <th>2</th>\n",
       "      <td>Not Like Us</td>\n",
       "      <td>Kendrick Lamar</td>\n",
       "    </tr>\n",
       "    <tr>\n",
       "      <th>3</th>\n",
       "      <td>Espresso</td>\n",
       "      <td>Sabrina Carpenter</td>\n",
       "    </tr>\n",
       "    <tr>\n",
       "      <th>4</th>\n",
       "      <td>Million Dollar Baby</td>\n",
       "      <td>Tommy Richman</td>\n",
       "    </tr>\n",
       "    <tr>\n",
       "      <th>...</th>\n",
       "      <td>...</td>\n",
       "      <td>...</td>\n",
       "    </tr>\n",
       "    <tr>\n",
       "      <th>95</th>\n",
       "      <td>Alibi</td>\n",
       "      <td>Sevdaliza, Pabllo Vittar &amp; Yseult</td>\n",
       "    </tr>\n",
       "    <tr>\n",
       "      <th>96</th>\n",
       "      <td>Parking Lot</td>\n",
       "      <td>Mustard &amp; Travis Scott</td>\n",
       "    </tr>\n",
       "    <tr>\n",
       "      <th>97</th>\n",
       "      <td>Wine Into Whiskey</td>\n",
       "      <td>Tucker Wetmore</td>\n",
       "    </tr>\n",
       "    <tr>\n",
       "      <th>98</th>\n",
       "      <td>Love You, Miss You, Mean It</td>\n",
       "      <td>Luke Bryan</td>\n",
       "    </tr>\n",
       "    <tr>\n",
       "      <th>99</th>\n",
       "      <td>We Ride</td>\n",
       "      <td>Bryan Martin</td>\n",
       "    </tr>\n",
       "  </tbody>\n",
       "</table>\n",
       "<p>100 rows × 2 columns</p>\n",
       "</div>"
      ],
      "text/plain": [
       "                           song                               artist\n",
       "0            A Bar Song (Tipsy)                            Shaboozey\n",
       "1               I Had Some Help  Post Malone Featuring Morgan Wallen\n",
       "2                   Not Like Us                       Kendrick Lamar\n",
       "3                      Espresso                    Sabrina Carpenter\n",
       "4           Million Dollar Baby                        Tommy Richman\n",
       "..                          ...                                  ...\n",
       "95                        Alibi    Sevdaliza, Pabllo Vittar & Yseult\n",
       "96                  Parking Lot               Mustard & Travis Scott\n",
       "97            Wine Into Whiskey                       Tucker Wetmore\n",
       "98  Love You, Miss You, Mean It                           Luke Bryan\n",
       "99                      We Ride                         Bryan Martin\n",
       "\n",
       "[100 rows x 2 columns]"
      ]
     },
     "execution_count": 8,
     "metadata": {},
     "output_type": "execute_result"
    }
   ],
   "source": [
    "df_b"
   ]
  },
  {
   "cell_type": "code",
   "execution_count": 14,
   "id": "65b2a7c6",
   "metadata": {},
   "outputs": [],
   "source": [
    "bb_100 = df_b['song'].tolist()"
   ]
  },
  {
   "cell_type": "code",
   "execution_count": 15,
   "id": "429eb057",
   "metadata": {
    "collapsed": true
   },
   "outputs": [
    {
     "data": {
      "text/plain": [
       "['A Bar Song (Tipsy)',\n",
       " 'I Had Some Help',\n",
       " 'Not Like Us',\n",
       " 'Espresso',\n",
       " 'Million Dollar Baby',\n",
       " 'Good Luck, Babe!',\n",
       " 'Birds Of A Feather',\n",
       " 'Please Please Please',\n",
       " 'Lose Control',\n",
       " 'Too Sweet',\n",
       " 'Beautiful Things',\n",
       " 'Guess',\n",
       " 'Cowgirls',\n",
       " \"Ain't No Love In Oklahoma\",\n",
       " 'Lies Lies Lies',\n",
       " 'Pink Skies',\n",
       " 'Hot To Go!',\n",
       " 'Miles On It',\n",
       " 'Like That',\n",
       " 'Houdini',\n",
       " 'I Remember Everything',\n",
       " 'Austin',\n",
       " 'Saturn',\n",
       " 'Who',\n",
       " '28',\n",
       " 'Kehlani',\n",
       " 'High Road',\n",
       " 'Pour Me A Drink',\n",
       " 'Pink Pony Club',\n",
       " 'Wanna Be',\n",
       " 'Big Dawgs',\n",
       " 'Si Antes Te Hubiera Conocido',\n",
       " 'Stick Season',\n",
       " 'Guy For That',\n",
       " 'I Can Do It With A Broken Heart',\n",
       " 'Slow It Down',\n",
       " \"We Can't Be Friends (Wait For Your Love)\",\n",
       " 'Fortnight',\n",
       " 'Lunch',\n",
       " 'I Am Not Okay',\n",
       " '360',\n",
       " 'Bulletproof',\n",
       " 'Feather',\n",
       " 'Stargazing',\n",
       " 'Bye Bye Bye',\n",
       " 'Mamushi',\n",
       " 'Red Wine Supernova',\n",
       " 'Field Trip',\n",
       " 'You Look Like You Love Me',\n",
       " 'TGIF',\n",
       " 'Dirt Cheap',\n",
       " 'Apple',\n",
       " 'Whiskey Whiskey',\n",
       " 'Gata Only',\n",
       " 'Wildflower',\n",
       " 'The Door',\n",
       " 'One Of Wun',\n",
       " 'BAND4BAND',\n",
       " 'Lonely Road',\n",
       " 'Nights Like This',\n",
       " 'Hang Tight Honey',\n",
       " 'Casual',\n",
       " 'Devil Is A Lie',\n",
       " 'Chevrolet',\n",
       " 'Did It First',\n",
       " 'Type Shit',\n",
       " 'Illusion',\n",
       " 'The Boy Is Mine',\n",
       " 'Nasty',\n",
       " 'Femininomenon',\n",
       " 'Help Me',\n",
       " 'Chihiro',\n",
       " \"Wind Up Missin' You\",\n",
       " 'I Like The Way You Kiss Me',\n",
       " \"Think I'm In Love With You\",\n",
       " 'Promotion',\n",
       " 'Si No Quieres No',\n",
       " 'Hate Me',\n",
       " 'Dirty',\n",
       " 'American Nights',\n",
       " 'Beautiful As You',\n",
       " 'Belong Together',\n",
       " \"I Love You, I'm Sorry\",\n",
       " 'U My Everything',\n",
       " 'La Patrulla',\n",
       " 'Am I Okay?',\n",
       " 'Fried',\n",
       " 'Slide',\n",
       " 'Highjack',\n",
       " 'Nel',\n",
       " 'My Kink Is Karma',\n",
       " 'Euphoria',\n",
       " 'Tough',\n",
       " 'Liar',\n",
       " 'Sweet Dreams',\n",
       " 'Alibi',\n",
       " 'Parking Lot',\n",
       " 'Wine Into Whiskey',\n",
       " 'Love You, Miss You, Mean It',\n",
       " 'We Ride']"
      ]
     },
     "execution_count": 15,
     "metadata": {},
     "output_type": "execute_result"
    }
   ],
   "source": [
    "bb_100"
   ]
  },
  {
   "cell_type": "code",
   "execution_count": null,
   "id": "6e403b45",
   "metadata": {},
   "outputs": [],
   "source": []
  },
  {
   "cell_type": "code",
   "execution_count": 47,
   "id": "b48970e8",
   "metadata": {},
   "outputs": [],
   "source": [
    "def find_hot_songs(name, df, score_corte=85):\n",
    " \n",
    "    if name in bb_100:\n",
    "        recommendation = random.choice(bb_100)\n",
    "        return f\"Your song is popular! Here's another popular song: {recommendation}\"\n",
    "    else:\n",
    "        return \"Sorry, your song is not popular\""
   ]
  },
  {
   "cell_type": "code",
   "execution_count": 48,
   "id": "885bc1c6",
   "metadata": {},
   "outputs": [
    {
     "name": "stdout",
     "output_type": "stream",
     "text": [
      "Please enter the name of a song: We Ride\n",
      "Your song is popular! Here's another popular song: Red Wine Supernova\n"
     ]
    }
   ],
   "source": [
    "song_name = input(\"Please enter the name of a song: \")\n",
    "\n",
    "hot_song = find_hot_songs(song_name, df_b)\n",
    "print(hot_song )"
   ]
  },
  {
   "cell_type": "code",
   "execution_count": null,
   "id": "7394cb46",
   "metadata": {},
   "outputs": [],
   "source": []
  }
 ],
 "metadata": {
  "kernelspec": {
   "display_name": "Python 3 (ipykernel)",
   "language": "python",
   "name": "python3"
  },
  "language_info": {
   "codemirror_mode": {
    "name": "ipython",
    "version": 3
   },
   "file_extension": ".py",
   "mimetype": "text/x-python",
   "name": "python",
   "nbconvert_exporter": "python",
   "pygments_lexer": "ipython3",
   "version": "3.11.7"
  }
 },
 "nbformat": 4,
 "nbformat_minor": 5
}
