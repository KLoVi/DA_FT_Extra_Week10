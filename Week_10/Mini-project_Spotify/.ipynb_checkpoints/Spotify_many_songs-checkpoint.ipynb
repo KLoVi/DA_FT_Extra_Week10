{
 "cells": [
  {
   "cell_type": "code",
   "execution_count": null,
   "id": "db9bf800",
   "metadata": {},
   "outputs": [],
   "source": [
    "import config"
   ]
  },
  {
   "cell_type": "code",
   "execution_count": null,
   "id": "db0a83ee",
   "metadata": {},
   "outputs": [],
   "source": [
    "import spotipy\n",
    "import pandas as pd\n",
    "import json\n",
    "from spotipy.oauth2 import SpotifyClientCredentials\n",
    "\n",
    "\n",
    "#Initialize SpotiPy with user credentials\n",
    "sp = spotipy.Spotify(auth_manager=SpotifyClientCredentials(client_id= config.client_id,\n",
    "                                                           client_secret= config.client_secret))"
   ]
  },
  {
   "cell_type": "code",
   "execution_count": null,
   "id": "3db4f53a",
   "metadata": {},
   "outputs": [],
   "source": [
    "import pprint"
   ]
  },
  {
   "cell_type": "code",
   "execution_count": null,
   "id": "121f7699",
   "metadata": {},
   "outputs": [],
   "source": [
    "from IPython.display import IFrame"
   ]
  },
  {
   "cell_type": "code",
   "execution_count": null,
   "id": "785afcf3",
   "metadata": {},
   "outputs": [],
   "source": [
    "def play_song(track_id):\n",
    "    return IFrame(src=\"https://open.spotify.com/embed/track/\"+track_id,\n",
    "       width=\"320\",\n",
    "       height=\"80\",\n",
    "       frameborder=\"0\",\n",
    "       allowtransparency=\"true\",\n",
    "       allow=\"encrypted-media\",\n",
    "      )"
   ]
  },
  {
   "cell_type": "code",
   "execution_count": null,
   "id": "8f541aff",
   "metadata": {},
   "outputs": [],
   "source": [
    "def get_playlist_tracks(username, playlist_id):\n",
    "    results = sp.user_playlist_tracks(username,playlist_id,market=\"GB\")\n",
    "    tracks = results['items']\n",
    "    while results['next']:\n",
    "        results = sp.next(results)\n",
    "        tracks.extend(results['items'])\n",
    "    return tracks"
   ]
  },
  {
   "cell_type": "code",
   "execution_count": null,
   "id": "71177cd0",
   "metadata": {},
   "outputs": [],
   "source": [
    "chunk_size = 100"
   ]
  },
  {
   "cell_type": "code",
   "execution_count": null,
   "id": "094127ea",
   "metadata": {},
   "outputs": [],
   "source": [
    "# PLAYLIST-PERSONAL: MUSIC MIX (all eras and genres)\n",
    "\n",
    "big_playlist_tracks = get_playlist_tracks(\"Spotify\",\"49G54i94nAqUUsa57pHG4f\")"
   ]
  },
  {
   "cell_type": "code",
   "execution_count": null,
   "id": "eae88571",
   "metadata": {},
   "outputs": [],
   "source": [
    "bp_ids = []\n",
    "for i in big_playlist_tracks:\n",
    "    bp_ids.append(i['track']['id'])"
   ]
  },
  {
   "cell_type": "code",
   "execution_count": null,
   "id": "3467f1a6",
   "metadata": {
    "scrolled": true
   },
   "outputs": [],
   "source": [
    "len(bp_ids)"
   ]
  },
  {
   "cell_type": "code",
   "execution_count": null,
   "id": "a504e336",
   "metadata": {
    "scrolled": true
   },
   "outputs": [],
   "source": [
    "chunk_size = 100\n",
    "#Here comes the code that chops the large list into smaller lists of 100 ids each\n",
    "bp_ids_chopped = [bp_ids[i:i+chunk_size] for i in range(0,len(bp_ids), 100)]"
   ]
  },
  {
   "cell_type": "code",
   "execution_count": null,
   "id": "c0b1a652",
   "metadata": {},
   "outputs": [],
   "source": [
    "len(bp_ids_chopped)"
   ]
  },
  {
   "cell_type": "code",
   "execution_count": null,
   "id": "9203ea3e",
   "metadata": {},
   "outputs": [],
   "source": [
    "af_list = []\n",
    "\n",
    "for i in bp_ids_chopped:\n",
    "    af_list.extend(sp.audio_features(i))"
   ]
  },
  {
   "cell_type": "code",
   "execution_count": null,
   "id": "7a2bf300",
   "metadata": {},
   "outputs": [],
   "source": [
    "af_list"
   ]
  },
  {
   "cell_type": "code",
   "execution_count": null,
   "id": "833a7b88",
   "metadata": {},
   "outputs": [],
   "source": [
    "len(af_list)"
   ]
  },
  {
   "cell_type": "code",
   "execution_count": null,
   "id": "d2f71596",
   "metadata": {
    "scrolled": true
   },
   "outputs": [],
   "source": [
    "# Crear una nueva lista que solo contenga elementos que no son None\n",
    "filtered_af_list = [item for item in af_list if item is not None]\n",
    "\n",
    "# Ahora intenta crear el DataFrame con la lista filtrada\n",
    "df_1 = pd.DataFrame(filtered_af_list)"
   ]
  },
  {
   "cell_type": "code",
   "execution_count": null,
   "id": "24594c0f",
   "metadata": {},
   "outputs": [],
   "source": [
    "df_1"
   ]
  },
  {
   "cell_type": "code",
   "execution_count": null,
   "id": "220737d3",
   "metadata": {},
   "outputs": [],
   "source": [
    "# PLAYLIST-PERSONAL: AREPAS Y VINO\n",
    "\n",
    "big_playlist_tracks_2 = get_playlist_tracks(\"Spotify\",\"1Au73ZbV5JOFaii7ituv36\")"
   ]
  },
  {
   "cell_type": "code",
   "execution_count": null,
   "id": "90499742",
   "metadata": {},
   "outputs": [],
   "source": [
    "bp_ids_2 = []\n",
    "for i in big_playlist_tracks_2:\n",
    "    bp_ids_2.append(i['track']['id'])"
   ]
  },
  {
   "cell_type": "code",
   "execution_count": null,
   "id": "fcf21948",
   "metadata": {},
   "outputs": [],
   "source": [
    "bp_ids_chopped_2 = [bp_ids_2[i:i+chunk_size] for i in range(0,len(bp_ids_2), 100)]"
   ]
  },
  {
   "cell_type": "code",
   "execution_count": null,
   "id": "fc7f7fcd",
   "metadata": {
    "scrolled": true
   },
   "outputs": [],
   "source": [
    "len(big_playlist_tracks_2)"
   ]
  },
  {
   "cell_type": "code",
   "execution_count": null,
   "id": "700a6056",
   "metadata": {
    "scrolled": true
   },
   "outputs": [],
   "source": [
    "len(bp_ids_chopped_2)"
   ]
  },
  {
   "cell_type": "code",
   "execution_count": null,
   "id": "8d298870",
   "metadata": {},
   "outputs": [],
   "source": [
    "af_list_2 = []\n",
    "\n",
    "for i in bp_ids_chopped_2:\n",
    "    af_list_2.extend(sp.audio_features(i))"
   ]
  },
  {
   "cell_type": "code",
   "execution_count": null,
   "id": "9fd4d936",
   "metadata": {},
   "outputs": [],
   "source": [
    "# Crear una nueva lista que solo contenga elementos que no son None\n",
    "filtered_af_list_2 = [item for item in af_list_2 if item is not None]\n",
    "\n",
    "# Ahora intenta crear el DataFrame con la lista filtrada\n",
    "df_2 = pd.DataFrame(filtered_af_list_2)"
   ]
  },
  {
   "cell_type": "code",
   "execution_count": null,
   "id": "c1948c4c",
   "metadata": {
    "scrolled": true
   },
   "outputs": [],
   "source": [
    "df_2"
   ]
  },
  {
   "cell_type": "code",
   "execution_count": null,
   "id": "ae2fea92",
   "metadata": {},
   "outputs": [],
   "source": []
  },
  {
   "cell_type": "code",
   "execution_count": null,
   "id": "4c2de28b",
   "metadata": {},
   "outputs": [],
   "source": []
  },
  {
   "cell_type": "code",
   "execution_count": null,
   "id": "7285600b",
   "metadata": {},
   "outputs": [],
   "source": [
    "# df3_SALSA BRAVA"
   ]
  },
  {
   "cell_type": "code",
   "execution_count": null,
   "id": "ec1be3c2",
   "metadata": {
    "scrolled": false
   },
   "outputs": [],
   "source": [
    "big_playlist_tracks_3 = get_playlist_tracks(\"Spotify\",\"0FfcxKXQuJoMnqYGW0qn7s\")"
   ]
  },
  {
   "cell_type": "code",
   "execution_count": null,
   "id": "cb09dedd",
   "metadata": {},
   "outputs": [],
   "source": [
    "big_playlist_tracks_3"
   ]
  },
  {
   "cell_type": "code",
   "execution_count": null,
   "id": "5d11cc47",
   "metadata": {},
   "outputs": [],
   "source": [
    "bp_ids_3 = []\n",
    "for i in big_playlist_tracks_3:\n",
    "    bp_ids_3.append(i['track']['id'])"
   ]
  },
  {
   "cell_type": "code",
   "execution_count": null,
   "id": "c9f56b28",
   "metadata": {
    "scrolled": true
   },
   "outputs": [],
   "source": [
    "bp_ids_chopped_3 = [bp_ids_3[i:i+chunk_size] for i in range(0,len(bp_ids_3), 100)]"
   ]
  },
  {
   "cell_type": "code",
   "execution_count": null,
   "id": "b89b448c",
   "metadata": {
    "scrolled": true
   },
   "outputs": [],
   "source": [
    "len(big_playlist_tracks_3)"
   ]
  },
  {
   "cell_type": "code",
   "execution_count": null,
   "id": "115ffbc5",
   "metadata": {
    "scrolled": true
   },
   "outputs": [],
   "source": [
    "len(bp_ids_chopped_3)"
   ]
  },
  {
   "cell_type": "code",
   "execution_count": null,
   "id": "1e678961",
   "metadata": {},
   "outputs": [],
   "source": [
    "af_list_3 = []\n",
    "\n",
    "for i in bp_ids_chopped_3:\n",
    "    af_list_3.extend(sp.audio_features(i))"
   ]
  },
  {
   "cell_type": "code",
   "execution_count": null,
   "id": "61674c75",
   "metadata": {},
   "outputs": [],
   "source": [
    "# Crear una nueva lista que solo contenga elementos que no son None\n",
    "filtered_af_list_3 = [item for item in af_list_3 if item is not None]\n",
    "\n",
    "# Ahora intenta crear el DataFrame con la lista filtrada\n",
    "df_3 = pd.DataFrame(filtered_af_list_3)"
   ]
  },
  {
   "cell_type": "code",
   "execution_count": null,
   "id": "305c851c",
   "metadata": {
    "scrolled": true
   },
   "outputs": [],
   "source": [
    "df_3"
   ]
  },
  {
   "cell_type": "code",
   "execution_count": null,
   "id": "34dee659",
   "metadata": {},
   "outputs": [],
   "source": []
  },
  {
   "cell_type": "code",
   "execution_count": null,
   "id": "d3cc8c17",
   "metadata": {},
   "outputs": [],
   "source": [
    "# df4_Top"
   ]
  },
  {
   "cell_type": "code",
   "execution_count": null,
   "id": "49763611",
   "metadata": {},
   "outputs": [],
   "source": [
    "big_playlist_tracks_4 = get_playlist_tracks(\"Spotify\",\"0LI3LvCdzWjJwjD36ntDi1\")"
   ]
  },
  {
   "cell_type": "code",
   "execution_count": null,
   "id": "b7ae190d",
   "metadata": {},
   "outputs": [],
   "source": [
    "bp_ids_4 = []\n",
    "for i in big_playlist_tracks_4:\n",
    "    bp_ids_4.append(i['track']['id'])"
   ]
  },
  {
   "cell_type": "code",
   "execution_count": null,
   "id": "28207bf2",
   "metadata": {},
   "outputs": [],
   "source": [
    "bp_ids_chopped_4 = [bp_ids_4[i:i+chunk_size] for i in range(0,len(bp_ids_4), 100)]"
   ]
  },
  {
   "cell_type": "code",
   "execution_count": null,
   "id": "b42b1ee5",
   "metadata": {},
   "outputs": [],
   "source": [
    "len(big_playlist_tracks_4)"
   ]
  },
  {
   "cell_type": "code",
   "execution_count": null,
   "id": "557b206d",
   "metadata": {},
   "outputs": [],
   "source": [
    "len(bp_ids_chopped_4)"
   ]
  },
  {
   "cell_type": "code",
   "execution_count": null,
   "id": "2521d40a",
   "metadata": {},
   "outputs": [],
   "source": [
    "af_list_4 = []\n",
    "\n",
    "for i in bp_ids_chopped_4:\n",
    "    af_list_4.extend(sp.audio_features(i))"
   ]
  },
  {
   "cell_type": "code",
   "execution_count": null,
   "id": "d1db063a",
   "metadata": {},
   "outputs": [],
   "source": [
    "filtered_af_list_4 = [item for item in af_list_4 if item is not None]\n",
    "\n",
    "df_4 = pd.DataFrame(filtered_af_list_4)"
   ]
  },
  {
   "cell_type": "code",
   "execution_count": null,
   "id": "e3bf5ba8",
   "metadata": {},
   "outputs": [],
   "source": [
    "df_4"
   ]
  },
  {
   "cell_type": "code",
   "execution_count": null,
   "id": "f07d9b12",
   "metadata": {},
   "outputs": [],
   "source": []
  },
  {
   "cell_type": "code",
   "execution_count": null,
   "id": "ff5db5da",
   "metadata": {},
   "outputs": [],
   "source": [
    "# df5_Bici"
   ]
  },
  {
   "cell_type": "code",
   "execution_count": null,
   "id": "9bb6e5fc",
   "metadata": {},
   "outputs": [],
   "source": [
    "big_playlist_tracks_5 = get_playlist_tracks(\"Spotify\", \"0t8cI59MySsbHcSraGT4Ui\")"
   ]
  },
  {
   "cell_type": "code",
   "execution_count": null,
   "id": "5f0c591e",
   "metadata": {
    "scrolled": true
   },
   "outputs": [],
   "source": [
    "bp_ids_5 = []\n",
    "for i in big_playlist_tracks_5:\n",
    "    if i is not None and 'track' in i and i['track'] is not None:\n",
    "        bp_ids_5.append(i['track']['id'])"
   ]
  },
  {
   "cell_type": "code",
   "execution_count": null,
   "id": "c1faea83",
   "metadata": {
    "scrolled": true
   },
   "outputs": [],
   "source": [
    "len(bp_ids_5)"
   ]
  },
  {
   "cell_type": "code",
   "execution_count": null,
   "id": "ada7ea71",
   "metadata": {},
   "outputs": [],
   "source": [
    "bp_ids_chopped_5 = [bp_ids_5[i:i+chunk_size] for i in range(0,len(bp_ids_5), 100)]"
   ]
  },
  {
   "cell_type": "code",
   "execution_count": null,
   "id": "c6645529",
   "metadata": {},
   "outputs": [],
   "source": [
    "len(big_playlist_tracks_5)"
   ]
  },
  {
   "cell_type": "code",
   "execution_count": null,
   "id": "85cf7321",
   "metadata": {
    "scrolled": true
   },
   "outputs": [],
   "source": [
    "len(bp_ids_chopped_5)"
   ]
  },
  {
   "cell_type": "code",
   "execution_count": null,
   "id": "9a03421a",
   "metadata": {},
   "outputs": [],
   "source": [
    "af_list_5 = []\n",
    "\n",
    "for i in bp_ids_chopped_5:\n",
    "    af_list_5.extend(sp.audio_features(i))"
   ]
  },
  {
   "cell_type": "code",
   "execution_count": null,
   "id": "fb964303",
   "metadata": {},
   "outputs": [],
   "source": [
    "filtered_af_list_5 = [item for item in af_list_5 if item is not None]\n",
    "\n",
    "df_5 = pd.DataFrame(filtered_af_list_5)"
   ]
  },
  {
   "cell_type": "code",
   "execution_count": null,
   "id": "0c8cf768",
   "metadata": {},
   "outputs": [],
   "source": [
    "df_5"
   ]
  },
  {
   "cell_type": "code",
   "execution_count": null,
   "id": "80264fee",
   "metadata": {},
   "outputs": [],
   "source": []
  },
  {
   "cell_type": "code",
   "execution_count": null,
   "id": "08e67c53",
   "metadata": {},
   "outputs": [],
   "source": [
    "df_concat = pd.concat([df_1, df_2, df_3, df_4, df_5], axis=0)"
   ]
  },
  {
   "cell_type": "code",
   "execution_count": null,
   "id": "dc04a116",
   "metadata": {},
   "outputs": [],
   "source": [
    "df_concat.head(3)"
   ]
  },
  {
   "cell_type": "code",
   "execution_count": null,
   "id": "cf94b92c",
   "metadata": {},
   "outputs": [],
   "source": [
    "df_concat.shape"
   ]
  },
  {
   "cell_type": "code",
   "execution_count": null,
   "id": "b981087a",
   "metadata": {},
   "outputs": [],
   "source": [
    "df_concat.columns"
   ]
  },
  {
   "cell_type": "code",
   "execution_count": null,
   "id": "c54a80f9",
   "metadata": {},
   "outputs": [],
   "source": []
  },
  {
   "cell_type": "code",
   "execution_count": null,
   "id": "47e248b4",
   "metadata": {},
   "outputs": [],
   "source": [
    "# df_concat.to_csv(\"/Users/karollvivianalopezvillegas/GitHub/DA_FT_Extra_Week10/Week_10/Mini-project_Spotify/My_Spotify_selection.csv\", index = False)"
   ]
  },
  {
   "cell_type": "code",
   "execution_count": null,
   "id": "d0a37e08",
   "metadata": {},
   "outputs": [],
   "source": []
  },
  {
   "cell_type": "code",
   "execution_count": null,
   "id": "041b9ac7",
   "metadata": {},
   "outputs": [],
   "source": [
    "# 22.08.24: Adicionar más música:"
   ]
  },
  {
   "cell_type": "code",
   "execution_count": null,
   "id": "9d176e78",
   "metadata": {},
   "outputs": [],
   "source": [
    "# Mixed Music 70... 2000  5NbipklUsoRHWxyHPll5qp"
   ]
  },
  {
   "cell_type": "code",
   "execution_count": null,
   "id": "e9a97994",
   "metadata": {},
   "outputs": [],
   "source": [
    "big_playlist_tracks_6 = get_playlist_tracks(\"Spotify\", \"5NbipklUsoRHWxyHPll5qp\")"
   ]
  },
  {
   "cell_type": "code",
   "execution_count": null,
   "id": "05fda9fa",
   "metadata": {
    "scrolled": true
   },
   "outputs": [],
   "source": [
    "bp_ids_6 = []\n",
    "for i in big_playlist_tracks_6:\n",
    "    if i is not None and 'track' in i and i['track'] is not None:\n",
    "        bp_ids_6.append(i['track']['id'])"
   ]
  },
  {
   "cell_type": "code",
   "execution_count": null,
   "id": "8ec75b3a",
   "metadata": {
    "scrolled": true
   },
   "outputs": [],
   "source": [
    "len(bp_ids_6)"
   ]
  },
  {
   "cell_type": "code",
   "execution_count": null,
   "id": "bbaba08f",
   "metadata": {},
   "outputs": [],
   "source": [
    "bp_ids_chopped_6 = [bp_ids_6[i:i+chunk_size] for i in range(0,len(bp_ids_6), 100)]"
   ]
  },
  {
   "cell_type": "code",
   "execution_count": null,
   "id": "85c59e26",
   "metadata": {},
   "outputs": [],
   "source": [
    "len(big_playlist_tracks_6)"
   ]
  },
  {
   "cell_type": "code",
   "execution_count": null,
   "id": "3aa5af97",
   "metadata": {
    "scrolled": false
   },
   "outputs": [],
   "source": [
    "len(bp_ids_chopped_6)"
   ]
  },
  {
   "cell_type": "code",
   "execution_count": null,
   "id": "ff67901e",
   "metadata": {},
   "outputs": [],
   "source": [
    "af_list_6 = []\n",
    "\n",
    "for i in bp_ids_chopped_6:\n",
    "    af_list_6.extend(sp.audio_features(i))"
   ]
  },
  {
   "cell_type": "code",
   "execution_count": null,
   "id": "805ddfbd",
   "metadata": {},
   "outputs": [],
   "source": [
    "filtered_af_list_6 = [item for item in af_list_6 if item is not None]\n",
    "\n",
    "df_6 = pd.DataFrame(filtered_af_list_6)"
   ]
  },
  {
   "cell_type": "code",
   "execution_count": null,
   "id": "eacf9143",
   "metadata": {
    "scrolled": false
   },
   "outputs": [],
   "source": [
    "df_6"
   ]
  },
  {
   "cell_type": "code",
   "execution_count": null,
   "id": "b3cfd9d2",
   "metadata": {},
   "outputs": [],
   "source": [
    "# Clásicos para fiestas latinas: 2709nOIFa89dr9O5TKjlzc"
   ]
  },
  {
   "cell_type": "code",
   "execution_count": null,
   "id": "de8144c9",
   "metadata": {},
   "outputs": [],
   "source": [
    "big_playlist_tracks_7 = get_playlist_tracks(\"Spotify\", \"2709nOIFa89dr9O5TKjlzc\")"
   ]
  },
  {
   "cell_type": "code",
   "execution_count": null,
   "id": "109bfddd",
   "metadata": {
    "scrolled": true
   },
   "outputs": [],
   "source": [
    "bp_ids_7 = []\n",
    "for i in big_playlist_tracks_7:\n",
    "    if i is not None and 'track' in i and i['track'] is not None:\n",
    "        bp_ids_7.append(i['track']['id'])"
   ]
  },
  {
   "cell_type": "code",
   "execution_count": null,
   "id": "04739103",
   "metadata": {
    "scrolled": true
   },
   "outputs": [],
   "source": [
    "len(bp_ids_7)"
   ]
  },
  {
   "cell_type": "code",
   "execution_count": null,
   "id": "d59b1c34",
   "metadata": {},
   "outputs": [],
   "source": [
    "bp_ids_chopped_7 = [bp_ids_7[i:i+chunk_size] for i in range(0,len(bp_ids_7), 100)]"
   ]
  },
  {
   "cell_type": "code",
   "execution_count": null,
   "id": "3a3ed779",
   "metadata": {},
   "outputs": [],
   "source": [
    "len(big_playlist_tracks_7)"
   ]
  },
  {
   "cell_type": "code",
   "execution_count": null,
   "id": "87e3ddfb",
   "metadata": {
    "scrolled": false
   },
   "outputs": [],
   "source": [
    "len(bp_ids_chopped_7)"
   ]
  },
  {
   "cell_type": "code",
   "execution_count": null,
   "id": "0cda92ef",
   "metadata": {
    "scrolled": true
   },
   "outputs": [],
   "source": [
    "af_list_7 = []\n",
    "\n",
    "for i in bp_ids_chopped_7:\n",
    "    af_list_7.extend(sp.audio_features(i))"
   ]
  },
  {
   "cell_type": "code",
   "execution_count": null,
   "id": "cd328f4d",
   "metadata": {},
   "outputs": [],
   "source": [
    "filtered_af_list_7 = [item for item in af_list_7 if item is not None]\n",
    "\n",
    "df_7 = pd.DataFrame(filtered_af_list_7)"
   ]
  },
  {
   "cell_type": "code",
   "execution_count": null,
   "id": "72cf8b02",
   "metadata": {
    "scrolled": false
   },
   "outputs": [],
   "source": [
    "df_7"
   ]
  },
  {
   "cell_type": "code",
   "execution_count": null,
   "id": "b6a57fe0",
   "metadata": {},
   "outputs": [],
   "source": [
    "# Lo mejor del rock en español: 48q4hYGbrjk8Gug1VOk6es"
   ]
  },
  {
   "cell_type": "code",
   "execution_count": null,
   "id": "633f9c2c",
   "metadata": {},
   "outputs": [],
   "source": [
    "big_playlist_tracks_8 = get_playlist_tracks(\"Spotify\", \"48q4hYGbrjk8Gug1VOk6es\")"
   ]
  },
  {
   "cell_type": "code",
   "execution_count": null,
   "id": "684c6179",
   "metadata": {
    "scrolled": true
   },
   "outputs": [],
   "source": [
    "bp_ids_8 = []\n",
    "for i in big_playlist_tracks_8:\n",
    "    if i is not None and 'track' in i and i['track'] is not None:\n",
    "        bp_ids_8.append(i['track']['id'])"
   ]
  },
  {
   "cell_type": "code",
   "execution_count": null,
   "id": "6317ac07",
   "metadata": {
    "scrolled": true
   },
   "outputs": [],
   "source": [
    "len(bp_ids_8)"
   ]
  },
  {
   "cell_type": "code",
   "execution_count": null,
   "id": "61a00943",
   "metadata": {},
   "outputs": [],
   "source": [
    "bp_ids_chopped_8 = [bp_ids_8[i:i+chunk_size] for i in range(0,len(bp_ids_8), 100)]"
   ]
  },
  {
   "cell_type": "code",
   "execution_count": null,
   "id": "15a66fc1",
   "metadata": {},
   "outputs": [],
   "source": [
    "len(big_playlist_tracks_8)"
   ]
  },
  {
   "cell_type": "code",
   "execution_count": null,
   "id": "34d85d50",
   "metadata": {
    "scrolled": false
   },
   "outputs": [],
   "source": [
    "len(bp_ids_chopped_8)"
   ]
  },
  {
   "cell_type": "code",
   "execution_count": null,
   "id": "3bdb1be6",
   "metadata": {
    "scrolled": true
   },
   "outputs": [],
   "source": [
    "af_list_8 = []\n",
    "\n",
    "for i in bp_ids_chopped_8:\n",
    "    af_list_8.extend(sp.audio_features(i))"
   ]
  },
  {
   "cell_type": "code",
   "execution_count": null,
   "id": "a1f1ad8e",
   "metadata": {},
   "outputs": [],
   "source": [
    "filtered_af_list_8 = [item for item in af_list_8 if item is not None]\n",
    "\n",
    "df_8 = pd.DataFrame(filtered_af_list_8)"
   ]
  },
  {
   "cell_type": "code",
   "execution_count": null,
   "id": "9aeadd43",
   "metadata": {
    "scrolled": false
   },
   "outputs": [],
   "source": [
    "df_8"
   ]
  },
  {
   "cell_type": "code",
   "execution_count": null,
   "id": "b0e72d4c",
   "metadata": {},
   "outputs": [],
   "source": []
  },
  {
   "cell_type": "code",
   "execution_count": null,
   "id": "34e80ffe",
   "metadata": {},
   "outputs": [],
   "source": [
    "url = df_concat"
   ]
  },
  {
   "cell_type": "code",
   "execution_count": null,
   "id": "1d381083",
   "metadata": {},
   "outputs": [],
   "source": [
    "url = \"/Users/karollvivianalopezvillegas/GitHub/DA_FT_Extra_Week10/Week_10/Mini-project_Spotify/My_Spotify_selection.csv\""
   ]
  },
  {
   "cell_type": "code",
   "execution_count": null,
   "id": "3b7ffe4e",
   "metadata": {},
   "outputs": [],
   "source": [
    "df_concat_1 = pd.read_csv(url) "
   ]
  },
  {
   "cell_type": "code",
   "execution_count": null,
   "id": "7b573881",
   "metadata": {},
   "outputs": [],
   "source": [
    "df_concat_1"
   ]
  },
  {
   "cell_type": "code",
   "execution_count": null,
   "id": "a5beab72",
   "metadata": {},
   "outputs": [],
   "source": []
  },
  {
   "cell_type": "code",
   "execution_count": null,
   "id": "9d807f0d",
   "metadata": {},
   "outputs": [],
   "source": [
    "df_concat_2 = pd.concat([df_concat_1, df_6, df_7, df_8], axis=0)"
   ]
  },
  {
   "cell_type": "code",
   "execution_count": null,
   "id": "c7241e2e",
   "metadata": {},
   "outputs": [],
   "source": [
    "df_concat_2.shape"
   ]
  },
  {
   "cell_type": "code",
   "execution_count": null,
   "id": "524acf29",
   "metadata": {},
   "outputs": [],
   "source": [
    "df_concat_2.drop_duplicates(inplace=True)"
   ]
  },
  {
   "cell_type": "code",
   "execution_count": null,
   "id": "b30d766f",
   "metadata": {},
   "outputs": [],
   "source": [
    "df_concat_2.shape"
   ]
  },
  {
   "cell_type": "code",
   "execution_count": null,
   "id": "751a909a",
   "metadata": {},
   "outputs": [],
   "source": []
  },
  {
   "cell_type": "code",
   "execution_count": null,
   "id": "ac94a703",
   "metadata": {},
   "outputs": [],
   "source": [
    "#df_concat_2.to_csv(\"/Users/karollvivianalopezvillegas/GitHub/DA_FT_Extra_Week10/Week_10/Mini-project_Spotify/My_Spotify_selection_FINAL.csv\", index = False)"
   ]
  },
  {
   "cell_type": "code",
   "execution_count": null,
   "id": "d53068f9",
   "metadata": {},
   "outputs": [],
   "source": []
  }
 ],
 "metadata": {
  "kernelspec": {
   "display_name": "Python 3 (ipykernel)",
   "language": "python",
   "name": "python3"
  },
  "language_info": {
   "codemirror_mode": {
    "name": "ipython",
    "version": 3
   },
   "file_extension": ".py",
   "mimetype": "text/x-python",
   "name": "python",
   "nbconvert_exporter": "python",
   "pygments_lexer": "ipython3",
   "version": "3.11.7"
  }
 },
 "nbformat": 4,
 "nbformat_minor": 5
}
