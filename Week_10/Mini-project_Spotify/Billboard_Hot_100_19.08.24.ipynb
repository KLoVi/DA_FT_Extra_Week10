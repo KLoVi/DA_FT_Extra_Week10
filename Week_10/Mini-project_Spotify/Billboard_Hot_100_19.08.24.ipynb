{
 "cells": [
  {
   "cell_type": "code",
   "execution_count": null,
   "id": "de493161",
   "metadata": {},
   "outputs": [],
   "source": [
    "import requests"
   ]
  },
  {
   "cell_type": "code",
   "execution_count": null,
   "id": "95799bfc",
   "metadata": {},
   "outputs": [],
   "source": [
    "url = \"https://www.billboard.com/charts/hot-100/\"\n",
    "response = requests.get(url)\n",
    "response"
   ]
  },
  {
   "cell_type": "code",
   "execution_count": null,
   "id": "43ba1651",
   "metadata": {},
   "outputs": [],
   "source": [
    "response.content"
   ]
  },
  {
   "cell_type": "code",
   "execution_count": null,
   "id": "aa6a8caa",
   "metadata": {},
   "outputs": [],
   "source": [
    "response.headers"
   ]
  },
  {
   "cell_type": "code",
   "execution_count": null,
   "id": "82c8dded",
   "metadata": {},
   "outputs": [],
   "source": [
    "print(response.headers['Content-Type'])"
   ]
  },
  {
   "cell_type": "code",
   "execution_count": null,
   "id": "71c86809",
   "metadata": {},
   "outputs": [],
   "source": [
    "from bs4 import BeautifulSoup\n",
    "\n",
    "soup = BeautifulSoup(response.content)"
   ]
  },
  {
   "cell_type": "code",
   "execution_count": null,
   "id": "c8525512",
   "metadata": {},
   "outputs": [],
   "source": [
    "soup"
   ]
  },
  {
   "cell_type": "code",
   "execution_count": null,
   "id": "0825e459",
   "metadata": {},
   "outputs": [],
   "source": [
    "type(soup)"
   ]
  },
  {
   "cell_type": "code",
   "execution_count": null,
   "id": "3d073ff7",
   "metadata": {},
   "outputs": [],
   "source": [
    "# 100st: WE RIDE\" : song name\n",
    "\n",
    "<h3 id=\"title-of-a-story\" class=\"c-title  a-no-trucate a-font-primary-bold-s u-letter-spacing-0021 lrv-u-font-size-18@tablet lrv-u-font-size-16 u-line-height-125 u-line-height-normal@mobile-max a-truncate-ellipsis u-max-width-330 u-max-width-230@tablet-only\">\n",
    "\n",
    "\t\n",
    "\t\n",
    "\t\t\n",
    "\t\t\t\t\tWe Ride\t\t\n",
    "\t\n",
    "</h3>"
   ]
  },
  {
   "cell_type": "code",
   "execution_count": null,
   "id": "940228b9",
   "metadata": {},
   "outputs": [],
   "source": [
    "# 1st: A BAR SONG (TIPSY) : song name\n",
    "\n",
    "<h3 id=\"title-of-a-story\" class=\"c-title  a-no-trucate a-font-primary-bold-s u-letter-spacing-0021 u-font-size-23@tablet lrv-u-font-size-16 u-line-height-125 u-line-height-normal@mobile-max a-truncate-ellipsis u-max-width-245 u-max-width-230@tablet-only u-letter-spacing-0028@tablet\">\n",
    "\n",
    "\t\n",
    "\t\n",
    "\t\t\n",
    "\t\t\t\t\tA Bar Song (Tipsy)\t\t\n",
    "\t\n",
    "</h3>"
   ]
  },
  {
   "cell_type": "code",
   "execution_count": null,
   "id": "9dc80f71",
   "metadata": {},
   "outputs": [],
   "source": [
    "soup.find_all(\"h3\", class_ = \"u-line-height-125\")"
   ]
  },
  {
   "cell_type": "code",
   "execution_count": null,
   "id": "8bb58ce2",
   "metadata": {},
   "outputs": [],
   "source": []
  },
  {
   "cell_type": "code",
   "execution_count": null,
   "id": "6a239e6d",
   "metadata": {},
   "outputs": [],
   "source": [
    "songs = []\n",
    "\n",
    "for i in soup.find_all(\"h3\", class_ = \"u-line-height-125\"):\n",
    "    songs.append(i.get_text(strip=True))"
   ]
  },
  {
   "cell_type": "code",
   "execution_count": null,
   "id": "6ba7359a",
   "metadata": {},
   "outputs": [],
   "source": [
    "songs"
   ]
  },
  {
   "cell_type": "code",
   "execution_count": null,
   "id": "7a005aec",
   "metadata": {},
   "outputs": [],
   "source": [
    "# 1st: Shaboozey,  artist name\n",
    "\n",
    "<span class=\"c-label  a-no-trucate a-font-primary-s lrv-u-font-size-14@mobile-max u-line-height-normal@mobile-max u-letter-spacing-0021 lrv-u-display-block a-truncate-ellipsis-2line u-max-width-330 u-max-width-230@tablet-only u-font-size-20@tablet\">\n",
    "\t\n",
    "\tShaboozey\n",
    "</span>"
   ]
  },
  {
   "cell_type": "code",
   "execution_count": null,
   "id": "869e24fe",
   "metadata": {},
   "outputs": [],
   "source": [
    "# 100: Bryan Martin,  artist name\n",
    "\n",
    "<span class=\"c-label  a-no-trucate a-font-primary-s lrv-u-font-size-14@mobile-max u-line-height-normal@mobile-max u-letter-spacing-0021 lrv-u-display-block a-truncate-ellipsis-2line u-max-width-330 u-max-width-230@tablet-only\">\n",
    "\t\n",
    "\tBryan Martin\n",
    "</span>\n"
   ]
  },
  {
   "cell_type": "code",
   "execution_count": null,
   "id": "6fec7b7a",
   "metadata": {},
   "outputs": [],
   "source": [
    "soup.find_all(\"span\", class_ = \"a-truncate-ellipsis-2line\")"
   ]
  },
  {
   "cell_type": "code",
   "execution_count": null,
   "id": "18770c27",
   "metadata": {},
   "outputs": [],
   "source": [
    "artists = []\n",
    "\n",
    "for i in soup.find_all(\"span\", class_ = \"a-truncate-ellipsis-2line\"):\n",
    "    artists.append(i.get_text(strip=True))"
   ]
  },
  {
   "cell_type": "code",
   "execution_count": null,
   "id": "d4cfb98e",
   "metadata": {},
   "outputs": [],
   "source": [
    "artists"
   ]
  },
  {
   "cell_type": "code",
   "execution_count": null,
   "id": "f683f2d9",
   "metadata": {},
   "outputs": [],
   "source": [
    "import pandas as pd"
   ]
  },
  {
   "cell_type": "code",
   "execution_count": null,
   "id": "14fd0ec4",
   "metadata": {},
   "outputs": [],
   "source": [
    "dict_top_100 = {\"song\": songs, \"artist\": artists }"
   ]
  },
  {
   "cell_type": "code",
   "execution_count": null,
   "id": "edcfaf48",
   "metadata": {},
   "outputs": [],
   "source": [
    "dict_top_100"
   ]
  },
  {
   "cell_type": "code",
   "execution_count": null,
   "id": "9d47aede",
   "metadata": {},
   "outputs": [],
   "source": [
    "df = pd.DataFrame(dict_top_100)\n",
    "df"
   ]
  },
  {
   "cell_type": "code",
   "execution_count": null,
   "id": "c80d91e9",
   "metadata": {},
   "outputs": [],
   "source": []
  },
  {
   "cell_type": "code",
   "execution_count": null,
   "id": "ff4479ff",
   "metadata": {},
   "outputs": [],
   "source": [
    "# df.to_csv(\"/Users/karollvivianalopezvillegas/GitHub/DA_FT_Extra_Week10/Week_10/Billboard_100.csv\", index = False)"
   ]
  },
  {
   "cell_type": "code",
   "execution_count": null,
   "id": "855b01dd",
   "metadata": {},
   "outputs": [],
   "source": []
  }
 ],
 "metadata": {
  "kernelspec": {
   "display_name": "Python 3 (ipykernel)",
   "language": "python",
   "name": "python3"
  },
  "language_info": {
   "codemirror_mode": {
    "name": "ipython",
    "version": 3
   },
   "file_extension": ".py",
   "mimetype": "text/x-python",
   "name": "python",
   "nbconvert_exporter": "python",
   "pygments_lexer": "ipython3",
   "version": "3.11.7"
  }
 },
 "nbformat": 4,
 "nbformat_minor": 5
}
