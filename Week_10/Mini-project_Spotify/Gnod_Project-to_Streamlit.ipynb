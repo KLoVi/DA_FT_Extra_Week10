{
 "cells": [
  {
   "cell_type": "code",
   "execution_count": 2,
   "id": "d00e53b0",
   "metadata": {},
   "outputs": [],
   "source": [
    "import pandas as pd"
   ]
  },
  {
   "cell_type": "code",
   "execution_count": 3,
   "id": "6eeade3b",
   "metadata": {},
   "outputs": [],
   "source": [
    "from fuzzywuzzy import process"
   ]
  },
  {
   "cell_type": "code",
   "execution_count": 4,
   "id": "c6d184b3",
   "metadata": {},
   "outputs": [],
   "source": [
    "import random"
   ]
  },
  {
   "cell_type": "code",
   "execution_count": 5,
   "id": "67d7774e",
   "metadata": {},
   "outputs": [],
   "source": [
    "import config"
   ]
  },
  {
   "cell_type": "code",
   "execution_count": 6,
   "id": "12a37984",
   "metadata": {},
   "outputs": [],
   "source": [
    "import pickle"
   ]
  },
  {
   "cell_type": "code",
   "execution_count": 7,
   "id": "ff085aa4",
   "metadata": {},
   "outputs": [],
   "source": [
    "from IPython.display import IFrame"
   ]
  },
  {
   "cell_type": "code",
   "execution_count": 8,
   "id": "a13887f6",
   "metadata": {},
   "outputs": [],
   "source": [
    "import spotipy\n",
    "import pandas as pd\n",
    "import json\n",
    "from spotipy.oauth2 import SpotifyClientCredentials\n",
    "\n",
    "\n",
    "#Initialize SpotiPy with user credentials\n",
    "sp = spotipy.Spotify(auth_manager=SpotifyClientCredentials(client_id= config.client_id,\n",
    "                                                           client_secret= config.client_secret))"
   ]
  },
  {
   "cell_type": "code",
   "execution_count": 9,
   "id": "1631f21f",
   "metadata": {},
   "outputs": [],
   "source": [
    "# Load the model from the pickle file\n",
    "with open('kmeans_15.pkl', 'rb') as file:\n",
    "    kmeans_15 = pickle.load(file)"
   ]
  },
  {
   "cell_type": "code",
   "execution_count": 10,
   "id": "7c6bd647",
   "metadata": {},
   "outputs": [],
   "source": [
    "with open('minmax.pkl', 'rb') as file:\n",
    "    minmax = pickle.load(file)"
   ]
  },
  {
   "cell_type": "code",
   "execution_count": 11,
   "id": "0f3a2a1d",
   "metadata": {},
   "outputs": [],
   "source": [
    "url_1 = \"/Users/karollvivianalopezvillegas/GitHub/DA_FT_Extra_Week10/Week_10/Mini-project_Spotify/Billboard_100.csv\""
   ]
  },
  {
   "cell_type": "code",
   "execution_count": 12,
   "id": "33efd562",
   "metadata": {
    "scrolled": true
   },
   "outputs": [],
   "source": [
    "df_b = pd.read_csv(url_1)"
   ]
  },
  {
   "cell_type": "code",
   "execution_count": 14,
   "id": "65b2a7c6",
   "metadata": {},
   "outputs": [],
   "source": [
    "bb_100 = df_b['song'].tolist()"
   ]
  },
  {
   "cell_type": "code",
   "execution_count": 15,
   "id": "70250d01",
   "metadata": {},
   "outputs": [],
   "source": [
    "clusters = \"/Users/karollvivianalopezvillegas/GitHub/DA_FT_Extra_Week10/Week_10/Mini-project_Spotify/My_Spotify_selection_WITH CLUSTERS_15.csv\" "
   ]
  },
  {
   "cell_type": "code",
   "execution_count": 16,
   "id": "ff61fab7",
   "metadata": {},
   "outputs": [],
   "source": [
    "ds = pd.read_csv(clusters)"
   ]
  },
  {
   "cell_type": "code",
   "execution_count": 17,
   "id": "c792248d",
   "metadata": {},
   "outputs": [],
   "source": [
    "def song_recommender(score_corte=85):\n",
    "    \n",
    "    def play_song(track_id):\n",
    "        return IFrame(src=\"https://open.spotify.com/embed/track/\"+track_id,\n",
    "           width=\"320\",\n",
    "           height=\"80\",\n",
    "           frameborder=\"0\",\n",
    "           allowtransparency=\"true\",\n",
    "           allow=\"encrypted-media\",\n",
    "          )\n",
    "\n",
    "    name = input(\"Please enter the name of a song:\").strip()\n",
    "    coincidence = process.extractOne(name, bb_100, score_cutoff=score_corte)\n",
    "    \n",
    "    results_name = sp.search(q= name,limit=1)\n",
    "    track_id_name = results_name[\"tracks\"][\"items\"][0][\"id\"]\n",
    "    \n",
    "    display(play_song(track_id_name))\n",
    "    \n",
    "    \n",
    "    if coincidence:\n",
    "        # Encontró una coincidencia, obtener el nombre de la canción\n",
    "        matched_song = coincidence[0]\n",
    "        \n",
    "        # Filtrar el DataFrame para encontrar la canción y el artista\n",
    "        song_info = df_b[df_b['song'] == matched_song]\n",
    "\n",
    "        # Recomendar una canción aleatoria del DataFrame\n",
    "        recommended_song = df_b.sample(n=1).iloc[0]\n",
    "        \n",
    "        # Encontrar id de la canción recomendada:\n",
    "        results = sp.search(q=recommended_song,limit=1)\n",
    "        track_id = results[\"tracks\"][\"items\"][0][\"id\"]\n",
    "        \n",
    "        print (f\"Your meant this song name, right?: {matched_song}\")\n",
    "        print(f\"Your song is popular! Here's another popular song: {recommended_song['song']}, Artist: {recommended_song['artist']}\")\n",
    "    \n",
    "    else:\n",
    "        # No encontró una coincidencia\n",
    "        results = sp.search(q = name,limit=1)\n",
    "        track_id = results[\"tracks\"][\"items\"][0][\"id\"]\n",
    "        name_features = sp.audio_features(track_id)\n",
    "        df_name = pd.DataFrame(name_features)\n",
    "        X_name = df_name[['danceability', 'energy', 'key', 'loudness', 'mode', 'speechiness',\n",
    "       'acousticness', 'instrumentalness', 'liveness', 'valence', 'tempo',\n",
    "        'duration_ms', 'time_signature']]\n",
    "        X_name_scaled = minmax.fit_transform(X_name)\n",
    "        cluster_sample = kmeans_15.predict(X_name_scaled)\n",
    "        recommended_song = ds[ ds[\"cluster\"] == cluster_sample.item() ].sample()\n",
    "        track_id_recom = recommended_song[\"id\"]\n",
    "        track_id = track_id_recom.item()\n",
    "        \n",
    "    return play_song(track_id)"
   ]
  },
  {
   "cell_type": "code",
   "execution_count": 18,
   "id": "b7c5ba3e",
   "metadata": {
    "scrolled": true
   },
   "outputs": [
    {
     "name": "stdout",
     "output_type": "stream",
     "text": [
      "Please enter the name of a song:hello\n"
     ]
    },
    {
     "data": {
      "text/html": [
       "\n",
       "        <iframe\n",
       "            width=\"320\"\n",
       "            height=\"80\"\n",
       "            src=\"https://open.spotify.com/embed/track/62PaSfnXSMyLshYJrlTuL3?frameborder=0&allowtransparency=true&allow=encrypted-media\"\n",
       "            frameborder=\"0\"\n",
       "            allowfullscreen\n",
       "            \n",
       "        ></iframe>\n",
       "        "
      ],
      "text/plain": [
       "<IPython.lib.display.IFrame at 0x1284d3490>"
      ]
     },
     "metadata": {},
     "output_type": "display_data"
    },
    {
     "name": "stderr",
     "output_type": "stream",
     "text": [
      "/opt/anaconda3/lib/python3.11/site-packages/sklearn/base.py:439: UserWarning: X does not have valid feature names, but KMeans was fitted with feature names\n",
      "  warnings.warn(\n"
     ]
    },
    {
     "data": {
      "text/html": [
       "\n",
       "        <iframe\n",
       "            width=\"320\"\n",
       "            height=\"80\"\n",
       "            src=\"https://open.spotify.com/embed/track/3ftHrCjsTUPLgI48m67byk?frameborder=0&allowtransparency=true&allow=encrypted-media\"\n",
       "            frameborder=\"0\"\n",
       "            allowfullscreen\n",
       "            \n",
       "        ></iframe>\n",
       "        "
      ],
      "text/plain": [
       "<IPython.lib.display.IFrame at 0x128a75a50>"
      ]
     },
     "execution_count": 18,
     "metadata": {},
     "output_type": "execute_result"
    }
   ],
   "source": [
    "song_recommender()"
   ]
  },
  {
   "cell_type": "code",
   "execution_count": null,
   "id": "bec0fc85",
   "metadata": {},
   "outputs": [],
   "source": []
  }
 ],
 "metadata": {
  "kernelspec": {
   "display_name": "Python 3 (ipykernel)",
   "language": "python",
   "name": "python3"
  },
  "language_info": {
   "codemirror_mode": {
    "name": "ipython",
    "version": 3
   },
   "file_extension": ".py",
   "mimetype": "text/x-python",
   "name": "python",
   "nbconvert_exporter": "python",
   "pygments_lexer": "ipython3",
   "version": "3.11.7"
  }
 },
 "nbformat": 4,
 "nbformat_minor": 5
}
