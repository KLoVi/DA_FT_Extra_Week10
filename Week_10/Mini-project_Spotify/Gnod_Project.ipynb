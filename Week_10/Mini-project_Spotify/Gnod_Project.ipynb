{
 "cells": [
  {
   "cell_type": "code",
   "execution_count": 37,
   "id": "d00e53b0",
   "metadata": {},
   "outputs": [],
   "source": [
    "import pandas as pd"
   ]
  },
  {
   "cell_type": "code",
   "execution_count": 38,
   "id": "6eeade3b",
   "metadata": {},
   "outputs": [],
   "source": [
    "from fuzzywuzzy import process"
   ]
  },
  {
   "cell_type": "code",
   "execution_count": 39,
   "id": "c6d184b3",
   "metadata": {},
   "outputs": [],
   "source": [
    "import random"
   ]
  },
  {
   "cell_type": "code",
   "execution_count": 40,
   "id": "67d7774e",
   "metadata": {},
   "outputs": [],
   "source": [
    "import config"
   ]
  },
  {
   "cell_type": "code",
   "execution_count": 41,
   "id": "74c75496",
   "metadata": {},
   "outputs": [],
   "source": [
    "import pickle"
   ]
  },
  {
   "cell_type": "code",
   "execution_count": 42,
   "id": "ff085aa4",
   "metadata": {},
   "outputs": [],
   "source": [
    "from IPython.display import IFrame"
   ]
  },
  {
   "cell_type": "code",
   "execution_count": 43,
   "id": "a13887f6",
   "metadata": {},
   "outputs": [],
   "source": [
    "import spotipy\n",
    "import pandas as pd\n",
    "import json\n",
    "from spotipy.oauth2 import SpotifyClientCredentials\n",
    "\n",
    "\n",
    "#Initialize SpotiPy with user credentials\n",
    "sp = spotipy.Spotify(auth_manager=SpotifyClientCredentials(client_id= config.client_id,\n",
    "                                                           client_secret= config.client_secret))"
   ]
  },
  {
   "cell_type": "code",
   "execution_count": 44,
   "id": "3c9de8ad",
   "metadata": {},
   "outputs": [],
   "source": [
    "def play_song(track_id):\n",
    "    return IFrame(src=\"https://open.spotify.com/embed/track/\"+track_id,\n",
    "       width=\"320\",\n",
    "       height=\"80\",\n",
    "       frameborder=\"0\",\n",
    "       allowtransparency=\"true\",\n",
    "       allow=\"encrypted-media\",\n",
    "      )"
   ]
  },
  {
   "cell_type": "code",
   "execution_count": 81,
   "id": "caad6282",
   "metadata": {},
   "outputs": [],
   "source": [
    "# Load the model from the pickle file\n",
    "with open('kmeans_20.pkl', 'rb') as file:\n",
    "    kmeans_20 = pickle.load(file)"
   ]
  },
  {
   "cell_type": "code",
   "execution_count": 90,
   "id": "1ee1828b",
   "metadata": {},
   "outputs": [
    {
     "data": {
      "text/html": [
       "<style>#sk-container-id-2 {color: black;background-color: white;}#sk-container-id-2 pre{padding: 0;}#sk-container-id-2 div.sk-toggleable {background-color: white;}#sk-container-id-2 label.sk-toggleable__label {cursor: pointer;display: block;width: 100%;margin-bottom: 0;padding: 0.3em;box-sizing: border-box;text-align: center;}#sk-container-id-2 label.sk-toggleable__label-arrow:before {content: \"▸\";float: left;margin-right: 0.25em;color: #696969;}#sk-container-id-2 label.sk-toggleable__label-arrow:hover:before {color: black;}#sk-container-id-2 div.sk-estimator:hover label.sk-toggleable__label-arrow:before {color: black;}#sk-container-id-2 div.sk-toggleable__content {max-height: 0;max-width: 0;overflow: hidden;text-align: left;background-color: #f0f8ff;}#sk-container-id-2 div.sk-toggleable__content pre {margin: 0.2em;color: black;border-radius: 0.25em;background-color: #f0f8ff;}#sk-container-id-2 input.sk-toggleable__control:checked~div.sk-toggleable__content {max-height: 200px;max-width: 100%;overflow: auto;}#sk-container-id-2 input.sk-toggleable__control:checked~label.sk-toggleable__label-arrow:before {content: \"▾\";}#sk-container-id-2 div.sk-estimator input.sk-toggleable__control:checked~label.sk-toggleable__label {background-color: #d4ebff;}#sk-container-id-2 div.sk-label input.sk-toggleable__control:checked~label.sk-toggleable__label {background-color: #d4ebff;}#sk-container-id-2 input.sk-hidden--visually {border: 0;clip: rect(1px 1px 1px 1px);clip: rect(1px, 1px, 1px, 1px);height: 1px;margin: -1px;overflow: hidden;padding: 0;position: absolute;width: 1px;}#sk-container-id-2 div.sk-estimator {font-family: monospace;background-color: #f0f8ff;border: 1px dotted black;border-radius: 0.25em;box-sizing: border-box;margin-bottom: 0.5em;}#sk-container-id-2 div.sk-estimator:hover {background-color: #d4ebff;}#sk-container-id-2 div.sk-parallel-item::after {content: \"\";width: 100%;border-bottom: 1px solid gray;flex-grow: 1;}#sk-container-id-2 div.sk-label:hover label.sk-toggleable__label {background-color: #d4ebff;}#sk-container-id-2 div.sk-serial::before {content: \"\";position: absolute;border-left: 1px solid gray;box-sizing: border-box;top: 0;bottom: 0;left: 50%;z-index: 0;}#sk-container-id-2 div.sk-serial {display: flex;flex-direction: column;align-items: center;background-color: white;padding-right: 0.2em;padding-left: 0.2em;position: relative;}#sk-container-id-2 div.sk-item {position: relative;z-index: 1;}#sk-container-id-2 div.sk-parallel {display: flex;align-items: stretch;justify-content: center;background-color: white;position: relative;}#sk-container-id-2 div.sk-item::before, #sk-container-id-2 div.sk-parallel-item::before {content: \"\";position: absolute;border-left: 1px solid gray;box-sizing: border-box;top: 0;bottom: 0;left: 50%;z-index: -1;}#sk-container-id-2 div.sk-parallel-item {display: flex;flex-direction: column;z-index: 1;position: relative;background-color: white;}#sk-container-id-2 div.sk-parallel-item:first-child::after {align-self: flex-end;width: 50%;}#sk-container-id-2 div.sk-parallel-item:last-child::after {align-self: flex-start;width: 50%;}#sk-container-id-2 div.sk-parallel-item:only-child::after {width: 0;}#sk-container-id-2 div.sk-dashed-wrapped {border: 1px dashed gray;margin: 0 0.4em 0.5em 0.4em;box-sizing: border-box;padding-bottom: 0.4em;background-color: white;}#sk-container-id-2 div.sk-label label {font-family: monospace;font-weight: bold;display: inline-block;line-height: 1.2em;}#sk-container-id-2 div.sk-label-container {text-align: center;}#sk-container-id-2 div.sk-container {/* jupyter's `normalize.less` sets `[hidden] { display: none; }` but bootstrap.min.css set `[hidden] { display: none !important; }` so we also need the `!important` here to be able to override the default hidden behavior on the sphinx rendered scikit-learn.org. See: https://github.com/scikit-learn/scikit-learn/issues/21755 */display: inline-block !important;position: relative;}#sk-container-id-2 div.sk-text-repr-fallback {display: none;}</style><div id=\"sk-container-id-2\" class=\"sk-top-container\"><div class=\"sk-text-repr-fallback\"><pre>KMeans(n_clusters=20, random_state=42)</pre><b>In a Jupyter environment, please rerun this cell to show the HTML representation or trust the notebook. <br />On GitHub, the HTML representation is unable to render, please try loading this page with nbviewer.org.</b></div><div class=\"sk-container\" hidden><div class=\"sk-item\"><div class=\"sk-estimator sk-toggleable\"><input class=\"sk-toggleable__control sk-hidden--visually\" id=\"sk-estimator-id-2\" type=\"checkbox\" checked><label for=\"sk-estimator-id-2\" class=\"sk-toggleable__label sk-toggleable__label-arrow\">KMeans</label><div class=\"sk-toggleable__content\"><pre>KMeans(n_clusters=20, random_state=42)</pre></div></div></div></div></div>"
      ],
      "text/plain": [
       "KMeans(n_clusters=20, random_state=42)"
      ]
     },
     "execution_count": 90,
     "metadata": {},
     "output_type": "execute_result"
    }
   ],
   "source": [
    "kmeans_20"
   ]
  },
  {
   "cell_type": "code",
   "execution_count": 46,
   "id": "29245a5b",
   "metadata": {},
   "outputs": [],
   "source": [
    "with open('minmax.pkl', 'rb') as file:\n",
    "    minmax = pickle.load(file)"
   ]
  },
  {
   "cell_type": "code",
   "execution_count": 47,
   "id": "0f3a2a1d",
   "metadata": {},
   "outputs": [],
   "source": [
    "url_1 = \"/Users/karollvivianalopezvillegas/GitHub/DA_FT_Extra_Week10/Week_10/Mini-project_Spotify/Billboard_100.csv\""
   ]
  },
  {
   "cell_type": "code",
   "execution_count": 48,
   "id": "33efd562",
   "metadata": {
    "scrolled": true
   },
   "outputs": [],
   "source": [
    "df_b = pd.read_csv(url_1)"
   ]
  },
  {
   "cell_type": "code",
   "execution_count": 49,
   "id": "6ed961a2",
   "metadata": {},
   "outputs": [
    {
     "data": {
      "text/html": [
       "<div>\n",
       "<style scoped>\n",
       "    .dataframe tbody tr th:only-of-type {\n",
       "        vertical-align: middle;\n",
       "    }\n",
       "\n",
       "    .dataframe tbody tr th {\n",
       "        vertical-align: top;\n",
       "    }\n",
       "\n",
       "    .dataframe thead th {\n",
       "        text-align: right;\n",
       "    }\n",
       "</style>\n",
       "<table border=\"1\" class=\"dataframe\">\n",
       "  <thead>\n",
       "    <tr style=\"text-align: right;\">\n",
       "      <th></th>\n",
       "      <th>song</th>\n",
       "      <th>artist</th>\n",
       "    </tr>\n",
       "  </thead>\n",
       "  <tbody>\n",
       "    <tr>\n",
       "      <th>0</th>\n",
       "      <td>A Bar Song (Tipsy)</td>\n",
       "      <td>Shaboozey</td>\n",
       "    </tr>\n",
       "    <tr>\n",
       "      <th>1</th>\n",
       "      <td>I Had Some Help</td>\n",
       "      <td>Post Malone Featuring Morgan Wallen</td>\n",
       "    </tr>\n",
       "    <tr>\n",
       "      <th>2</th>\n",
       "      <td>Not Like Us</td>\n",
       "      <td>Kendrick Lamar</td>\n",
       "    </tr>\n",
       "    <tr>\n",
       "      <th>3</th>\n",
       "      <td>Espresso</td>\n",
       "      <td>Sabrina Carpenter</td>\n",
       "    </tr>\n",
       "    <tr>\n",
       "      <th>4</th>\n",
       "      <td>Million Dollar Baby</td>\n",
       "      <td>Tommy Richman</td>\n",
       "    </tr>\n",
       "    <tr>\n",
       "      <th>...</th>\n",
       "      <td>...</td>\n",
       "      <td>...</td>\n",
       "    </tr>\n",
       "    <tr>\n",
       "      <th>95</th>\n",
       "      <td>Alibi</td>\n",
       "      <td>Sevdaliza, Pabllo Vittar &amp; Yseult</td>\n",
       "    </tr>\n",
       "    <tr>\n",
       "      <th>96</th>\n",
       "      <td>Parking Lot</td>\n",
       "      <td>Mustard &amp; Travis Scott</td>\n",
       "    </tr>\n",
       "    <tr>\n",
       "      <th>97</th>\n",
       "      <td>Wine Into Whiskey</td>\n",
       "      <td>Tucker Wetmore</td>\n",
       "    </tr>\n",
       "    <tr>\n",
       "      <th>98</th>\n",
       "      <td>Love You, Miss You, Mean It</td>\n",
       "      <td>Luke Bryan</td>\n",
       "    </tr>\n",
       "    <tr>\n",
       "      <th>99</th>\n",
       "      <td>We Ride</td>\n",
       "      <td>Bryan Martin</td>\n",
       "    </tr>\n",
       "  </tbody>\n",
       "</table>\n",
       "<p>100 rows × 2 columns</p>\n",
       "</div>"
      ],
      "text/plain": [
       "                           song                               artist\n",
       "0            A Bar Song (Tipsy)                            Shaboozey\n",
       "1               I Had Some Help  Post Malone Featuring Morgan Wallen\n",
       "2                   Not Like Us                       Kendrick Lamar\n",
       "3                      Espresso                    Sabrina Carpenter\n",
       "4           Million Dollar Baby                        Tommy Richman\n",
       "..                          ...                                  ...\n",
       "95                        Alibi    Sevdaliza, Pabllo Vittar & Yseult\n",
       "96                  Parking Lot               Mustard & Travis Scott\n",
       "97            Wine Into Whiskey                       Tucker Wetmore\n",
       "98  Love You, Miss You, Mean It                           Luke Bryan\n",
       "99                      We Ride                         Bryan Martin\n",
       "\n",
       "[100 rows x 2 columns]"
      ]
     },
     "execution_count": 49,
     "metadata": {},
     "output_type": "execute_result"
    }
   ],
   "source": [
    "df_b"
   ]
  },
  {
   "cell_type": "code",
   "execution_count": 50,
   "id": "65b2a7c6",
   "metadata": {},
   "outputs": [],
   "source": [
    "bb_100 = df_b['song'].tolist()"
   ]
  },
  {
   "cell_type": "code",
   "execution_count": 51,
   "id": "429eb057",
   "metadata": {
    "collapsed": true
   },
   "outputs": [
    {
     "data": {
      "text/plain": [
       "['A Bar Song (Tipsy)',\n",
       " 'I Had Some Help',\n",
       " 'Not Like Us',\n",
       " 'Espresso',\n",
       " 'Million Dollar Baby',\n",
       " 'Good Luck, Babe!',\n",
       " 'Birds Of A Feather',\n",
       " 'Please Please Please',\n",
       " 'Lose Control',\n",
       " 'Too Sweet',\n",
       " 'Beautiful Things',\n",
       " 'Guess',\n",
       " 'Cowgirls',\n",
       " \"Ain't No Love In Oklahoma\",\n",
       " 'Lies Lies Lies',\n",
       " 'Pink Skies',\n",
       " 'Hot To Go!',\n",
       " 'Miles On It',\n",
       " 'Like That',\n",
       " 'Houdini',\n",
       " 'I Remember Everything',\n",
       " 'Austin',\n",
       " 'Saturn',\n",
       " 'Who',\n",
       " '28',\n",
       " 'Kehlani',\n",
       " 'High Road',\n",
       " 'Pour Me A Drink',\n",
       " 'Pink Pony Club',\n",
       " 'Wanna Be',\n",
       " 'Big Dawgs',\n",
       " 'Si Antes Te Hubiera Conocido',\n",
       " 'Stick Season',\n",
       " 'Guy For That',\n",
       " 'I Can Do It With A Broken Heart',\n",
       " 'Slow It Down',\n",
       " \"We Can't Be Friends (Wait For Your Love)\",\n",
       " 'Fortnight',\n",
       " 'Lunch',\n",
       " 'I Am Not Okay',\n",
       " '360',\n",
       " 'Bulletproof',\n",
       " 'Feather',\n",
       " 'Stargazing',\n",
       " 'Bye Bye Bye',\n",
       " 'Mamushi',\n",
       " 'Red Wine Supernova',\n",
       " 'Field Trip',\n",
       " 'You Look Like You Love Me',\n",
       " 'TGIF',\n",
       " 'Dirt Cheap',\n",
       " 'Apple',\n",
       " 'Whiskey Whiskey',\n",
       " 'Gata Only',\n",
       " 'Wildflower',\n",
       " 'The Door',\n",
       " 'One Of Wun',\n",
       " 'BAND4BAND',\n",
       " 'Lonely Road',\n",
       " 'Nights Like This',\n",
       " 'Hang Tight Honey',\n",
       " 'Casual',\n",
       " 'Devil Is A Lie',\n",
       " 'Chevrolet',\n",
       " 'Did It First',\n",
       " 'Type Shit',\n",
       " 'Illusion',\n",
       " 'The Boy Is Mine',\n",
       " 'Nasty',\n",
       " 'Femininomenon',\n",
       " 'Help Me',\n",
       " 'Chihiro',\n",
       " \"Wind Up Missin' You\",\n",
       " 'I Like The Way You Kiss Me',\n",
       " \"Think I'm In Love With You\",\n",
       " 'Promotion',\n",
       " 'Si No Quieres No',\n",
       " 'Hate Me',\n",
       " 'Dirty',\n",
       " 'American Nights',\n",
       " 'Beautiful As You',\n",
       " 'Belong Together',\n",
       " \"I Love You, I'm Sorry\",\n",
       " 'U My Everything',\n",
       " 'La Patrulla',\n",
       " 'Am I Okay?',\n",
       " 'Fried',\n",
       " 'Slide',\n",
       " 'Highjack',\n",
       " 'Nel',\n",
       " 'My Kink Is Karma',\n",
       " 'Euphoria',\n",
       " 'Tough',\n",
       " 'Liar',\n",
       " 'Sweet Dreams',\n",
       " 'Alibi',\n",
       " 'Parking Lot',\n",
       " 'Wine Into Whiskey',\n",
       " 'Love You, Miss You, Mean It',\n",
       " 'We Ride']"
      ]
     },
     "execution_count": 51,
     "metadata": {},
     "output_type": "execute_result"
    }
   ],
   "source": [
    "bb_100"
   ]
  },
  {
   "cell_type": "code",
   "execution_count": null,
   "id": "eab875a3",
   "metadata": {},
   "outputs": [],
   "source": []
  },
  {
   "cell_type": "code",
   "execution_count": 16,
   "id": "29650267",
   "metadata": {},
   "outputs": [],
   "source": [
    "# Cuando el código selecciona una canción al azar del DataFrame, utiliza la función sample() de pandas. Esta función permite seleccionar una o más filas de un DataFrame al azar. Aquí, n=1 indica que se debe seleccionar exactamente una fila.\n",
    "# df_b.sample(n=1) selecciona una fila aleatoria del DataFrame.\n",
    "# .iloc[0] se usa para obtener el primer (y único) elemento de la selección. Esto es necesario porque sample() devuelve un DataFrame (aunque solo tenga una fila). .iloc[0] convierte esa única fila en una Serie de pandas, lo que facilita el acceso a sus valores, como recommended_song['song'] y recommended_song['artist']."
   ]
  },
  {
   "cell_type": "code",
   "execution_count": 52,
   "id": "77bcadc8",
   "metadata": {},
   "outputs": [],
   "source": [
    "def song_recommender_1(score_corte=85):\n",
    "    \n",
    "    def play_song(track_id):\n",
    "        return IFrame(src=\"https://open.spotify.com/embed/track/\"+track_id,\n",
    "           width=\"320\",\n",
    "           height=\"80\",\n",
    "           frameborder=\"0\",\n",
    "           allowtransparency=\"true\",\n",
    "           allow=\"encrypted-media\",\n",
    "          )\n",
    "\n",
    "    name = input(\"Please enter the name of a song:\").strip()\n",
    "    coincidence = process.extractOne(name, bb_100, score_cutoff=score_corte)\n",
    "    \n",
    "    \n",
    "    if coincidence:\n",
    "        # Encontró una coincidencia, obtener el nombre de la canción\n",
    "        matched_song = coincidence[0]\n",
    "        \n",
    "        # Filtrar el DataFrame para encontrar la canción y el artista\n",
    "        song_info = df_b[df_b['song'] == matched_song]\n",
    "\n",
    "        # Recomendar una canción aleatoria del DataFrame\n",
    "        recommended_song = df_b.sample(n=1).iloc[0]\n",
    "        \n",
    "        # Encontrar id de la canción recomendada:\n",
    "        results = sp.search(q=recommended_song,limit=1)\n",
    "        track_id = results[\"tracks\"][\"items\"][0][\"id\"]\n",
    "        \n",
    "        print (f\"Your meant this song name, right?: {matched_song}\")\n",
    "        print(f\"Your song is popular! Here's another popular song: {recommended_song['song']}, Artist: {recommended_song['artist']}\")\n",
    "    \n",
    "    else:\n",
    "        # No encontró una coincidencia\n",
    "        print(\"Sorry, your song is not popular\")\n",
    "        \n",
    "    return play_song(track_id)"
   ]
  },
  {
   "cell_type": "code",
   "execution_count": 21,
   "id": "9b21fae1",
   "metadata": {},
   "outputs": [],
   "source": [
    "# Test, song recommender primera parte:"
   ]
  },
  {
   "cell_type": "code",
   "execution_count": 26,
   "id": "c4582a74",
   "metadata": {
    "scrolled": false
   },
   "outputs": [
    {
     "name": "stdout",
     "output_type": "stream",
     "text": [
      "Please enter the name of a song:sweet dreams\n",
      "Your meant this song name, right?: Sweet Dreams\n",
      "Your song is popular! Here's another popular song: Sweet Dreams, Artist: Koe Wetzel\n"
     ]
    },
    {
     "data": {
      "text/html": [
       "\n",
       "        <iframe\n",
       "            width=\"320\"\n",
       "            height=\"80\"\n",
       "            src=\"https://open.spotify.com/embed/track/1TfqLAPs4K3s2rJMoCokcS?frameborder=0&allowtransparency=true&allow=encrypted-media\"\n",
       "            frameborder=\"0\"\n",
       "            allowfullscreen\n",
       "            \n",
       "        ></iframe>\n",
       "        "
      ],
      "text/plain": [
       "<IPython.lib.display.IFrame at 0x1261c9d50>"
      ]
     },
     "execution_count": 26,
     "metadata": {},
     "output_type": "execute_result"
    }
   ],
   "source": [
    "song_recommender_1()\n"
   ]
  },
  {
   "cell_type": "code",
   "execution_count": null,
   "id": "e8f7fe2e",
   "metadata": {},
   "outputs": [],
   "source": []
  },
  {
   "cell_type": "code",
   "execution_count": null,
   "id": "3cd6afff",
   "metadata": {},
   "outputs": [],
   "source": [
    "# Test, song recommender completo:"
   ]
  },
  {
   "cell_type": "code",
   "execution_count": null,
   "id": "eaec8670",
   "metadata": {},
   "outputs": [],
   "source": [
    "# paso a paso segunda parte antes de integrarlo a la función: "
   ]
  },
  {
   "cell_type": "code",
   "execution_count": 82,
   "id": "70250d01",
   "metadata": {},
   "outputs": [],
   "source": [
    "clusters = \"/Users/karollvivianalopezvillegas/GitHub/DA_FT_Extra_Week10/Week_10/Mini-project_Spotify/My_Spotify_selection_WITH CLUSTERS_20.csv\" "
   ]
  },
  {
   "cell_type": "code",
   "execution_count": 83,
   "id": "ff61fab7",
   "metadata": {},
   "outputs": [],
   "source": [
    "ds = pd.read_csv(clusters)"
   ]
  },
  {
   "cell_type": "code",
   "execution_count": 84,
   "id": "3db6990b",
   "metadata": {},
   "outputs": [
    {
     "data": {
      "text/html": [
       "<div>\n",
       "<style scoped>\n",
       "    .dataframe tbody tr th:only-of-type {\n",
       "        vertical-align: middle;\n",
       "    }\n",
       "\n",
       "    .dataframe tbody tr th {\n",
       "        vertical-align: top;\n",
       "    }\n",
       "\n",
       "    .dataframe thead th {\n",
       "        text-align: right;\n",
       "    }\n",
       "</style>\n",
       "<table border=\"1\" class=\"dataframe\">\n",
       "  <thead>\n",
       "    <tr style=\"text-align: right;\">\n",
       "      <th></th>\n",
       "      <th>danceability</th>\n",
       "      <th>energy</th>\n",
       "      <th>key</th>\n",
       "      <th>loudness</th>\n",
       "      <th>mode</th>\n",
       "      <th>speechiness</th>\n",
       "      <th>acousticness</th>\n",
       "      <th>instrumentalness</th>\n",
       "      <th>liveness</th>\n",
       "      <th>valence</th>\n",
       "      <th>tempo</th>\n",
       "      <th>type</th>\n",
       "      <th>id</th>\n",
       "      <th>uri</th>\n",
       "      <th>track_href</th>\n",
       "      <th>analysis_url</th>\n",
       "      <th>duration_ms</th>\n",
       "      <th>time_signature</th>\n",
       "      <th>cluster</th>\n",
       "    </tr>\n",
       "  </thead>\n",
       "  <tbody>\n",
       "    <tr>\n",
       "      <th>0</th>\n",
       "      <td>0.559</td>\n",
       "      <td>0.345</td>\n",
       "      <td>4</td>\n",
       "      <td>-13.496</td>\n",
       "      <td>1</td>\n",
       "      <td>0.0459</td>\n",
       "      <td>0.0576</td>\n",
       "      <td>0.000105</td>\n",
       "      <td>0.141</td>\n",
       "      <td>0.458</td>\n",
       "      <td>84.581</td>\n",
       "      <td>audio_features</td>\n",
       "      <td>3d9DChrdc6BOeFsbrZ3Is0</td>\n",
       "      <td>spotify:track:3d9DChrdc6BOeFsbrZ3Is0</td>\n",
       "      <td>https://api.spotify.com/v1/tracks/3d9DChrdc6BO...</td>\n",
       "      <td>https://api.spotify.com/v1/audio-analysis/3d9D...</td>\n",
       "      <td>264307</td>\n",
       "      <td>4</td>\n",
       "      <td>9</td>\n",
       "    </tr>\n",
       "  </tbody>\n",
       "</table>\n",
       "</div>"
      ],
      "text/plain": [
       "   danceability  energy  key  loudness  mode  speechiness  acousticness  \\\n",
       "0         0.559   0.345    4   -13.496     1       0.0459        0.0576   \n",
       "\n",
       "   instrumentalness  liveness  valence   tempo            type  \\\n",
       "0          0.000105     0.141    0.458  84.581  audio_features   \n",
       "\n",
       "                       id                                   uri  \\\n",
       "0  3d9DChrdc6BOeFsbrZ3Is0  spotify:track:3d9DChrdc6BOeFsbrZ3Is0   \n",
       "\n",
       "                                          track_href  \\\n",
       "0  https://api.spotify.com/v1/tracks/3d9DChrdc6BO...   \n",
       "\n",
       "                                        analysis_url  duration_ms  \\\n",
       "0  https://api.spotify.com/v1/audio-analysis/3d9D...       264307   \n",
       "\n",
       "   time_signature  cluster  \n",
       "0               4        9  "
      ]
     },
     "execution_count": 84,
     "metadata": {},
     "output_type": "execute_result"
    }
   ],
   "source": [
    "ds.head(1)"
   ]
  },
  {
   "cell_type": "code",
   "execution_count": 85,
   "id": "e4752e8d",
   "metadata": {},
   "outputs": [
    {
     "data": {
      "text/plain": [
       "(5447, 19)"
      ]
     },
     "execution_count": 85,
     "metadata": {},
     "output_type": "execute_result"
    }
   ],
   "source": [
    "ds.shape"
   ]
  },
  {
   "cell_type": "code",
   "execution_count": 86,
   "id": "8b0eb6ab",
   "metadata": {
    "scrolled": false
   },
   "outputs": [
    {
     "data": {
      "text/plain": [
       "cluster\n",
       "18    596\n",
       "13    485\n",
       "9     374\n",
       "11    362\n",
       "5     336\n",
       "3     322\n",
       "10    320\n",
       "2     310\n",
       "4     293\n",
       "8     276\n",
       "14    264\n",
       "17    228\n",
       "7     206\n",
       "6     192\n",
       "15    181\n",
       "16    169\n",
       "12    154\n",
       "19    151\n",
       "0     116\n",
       "1     112\n",
       "Name: count, dtype: int64"
      ]
     },
     "execution_count": 86,
     "metadata": {},
     "output_type": "execute_result"
    }
   ],
   "source": [
    "ds.cluster.value_counts()"
   ]
  },
  {
   "cell_type": "code",
   "execution_count": 87,
   "id": "bc7977e8",
   "metadata": {
    "scrolled": false
   },
   "outputs": [
    {
     "data": {
      "text/plain": [
       "Index(['danceability', 'energy', 'key', 'loudness', 'mode', 'speechiness',\n",
       "       'acousticness', 'instrumentalness', 'liveness', 'valence', 'tempo',\n",
       "       'type', 'id', 'uri', 'track_href', 'analysis_url', 'duration_ms',\n",
       "       'time_signature', 'cluster'],\n",
       "      dtype='object')"
      ]
     },
     "execution_count": 87,
     "metadata": {},
     "output_type": "execute_result"
    }
   ],
   "source": [
    "ds.columns"
   ]
  },
  {
   "cell_type": "code",
   "execution_count": 91,
   "id": "a7b1ea86",
   "metadata": {},
   "outputs": [],
   "source": [
    "def song_recommender(score_corte=85):\n",
    "    \n",
    "    def play_song(track_id):\n",
    "        return IFrame(src=\"https://open.spotify.com/embed/track/\"+track_id,\n",
    "           width=\"320\",\n",
    "           height=\"80\",\n",
    "           frameborder=\"0\",\n",
    "           allowtransparency=\"true\",\n",
    "           allow=\"encrypted-media\",\n",
    "          )\n",
    "\n",
    "    name = input(\"Please enter the name of a song:\").strip()\n",
    "    coincidence = process.extractOne(name, bb_100, score_cutoff=score_corte)\n",
    "    \n",
    "    results_name = sp.search(q= name,limit=1)\n",
    "    track_id_name = results_name[\"tracks\"][\"items\"][0][\"id\"]\n",
    "    \n",
    "    display(play_song(track_id_name))\n",
    "    \n",
    "    \n",
    "    if coincidence:\n",
    "        # Encontró una coincidencia, obtener el nombre de la canción\n",
    "        matched_song = coincidence[0]\n",
    "        \n",
    "        # Filtrar el DataFrame para encontrar la canción y el artista\n",
    "        song_info = df_b[df_b['song'] == matched_song]\n",
    "\n",
    "        # Recomendar una canción aleatoria del DataFrame\n",
    "        recommended_song = df_b.sample(n=1).iloc[0]\n",
    "        \n",
    "        # Encontrar id de la canción recomendada:\n",
    "        results = sp.search(q=recommended_song,limit=1)\n",
    "        track_id = results[\"tracks\"][\"items\"][0][\"id\"]\n",
    "        \n",
    "        print (f\"Your meant this song name, right?: {matched_song}\")\n",
    "        print(f\"Your song is popular! Here's another popular song: {recommended_song['song']}, Artist: {recommended_song['artist']}\")\n",
    "    \n",
    "    else:\n",
    "        # No encontró una coincidencia\n",
    "        results = sp.search(q = name,limit=1)\n",
    "        track_id = results[\"tracks\"][\"items\"][0][\"id\"]\n",
    "        name_features = sp.audio_features(track_id)\n",
    "        df_name = pd.DataFrame(name_features)\n",
    "        X_name = df_name[['danceability', 'energy', 'key', 'loudness', 'mode', 'speechiness',\n",
    "       'acousticness', 'instrumentalness', 'liveness', 'valence', 'tempo','time_signature']]\n",
    "        X_name_scaled = minmax.fit_transform(X_name)\n",
    "        cluster_sample = kmeans_20.predict(X_name_scaled)\n",
    "        recommended_song = ds[ ds[\"cluster\"] == cluster_sample.item() ].sample()\n",
    "        track_id_recom = recommended_song[\"id\"]\n",
    "        track_id = track_id_recom.item()\n",
    "        \n",
    "    return play_song(track_id)"
   ]
  },
  {
   "cell_type": "code",
   "execution_count": null,
   "id": "2ea8a5b0",
   "metadata": {},
   "outputs": [],
   "source": []
  },
  {
   "cell_type": "code",
   "execution_count": 103,
   "id": "164d0c69",
   "metadata": {
    "scrolled": true
   },
   "outputs": [
    {
     "name": "stdout",
     "output_type": "stream",
     "text": [
      "Please enter the name of a song:Lloraras\n"
     ]
    },
    {
     "data": {
      "text/html": [
       "\n",
       "        <iframe\n",
       "            width=\"320\"\n",
       "            height=\"80\"\n",
       "            src=\"https://open.spotify.com/embed/track/6QJ1F9DrlsRSmKDcdVS0Oy?frameborder=0&allowtransparency=true&allow=encrypted-media\"\n",
       "            frameborder=\"0\"\n",
       "            allowfullscreen\n",
       "            \n",
       "        ></iframe>\n",
       "        "
      ],
      "text/plain": [
       "<IPython.lib.display.IFrame at 0x1254ebad0>"
      ]
     },
     "metadata": {},
     "output_type": "display_data"
    },
    {
     "name": "stderr",
     "output_type": "stream",
     "text": [
      "/opt/anaconda3/lib/python3.11/site-packages/sklearn/base.py:439: UserWarning: X does not have valid feature names, but KMeans was fitted with feature names\n",
      "  warnings.warn(\n"
     ]
    },
    {
     "data": {
      "text/html": [
       "\n",
       "        <iframe\n",
       "            width=\"320\"\n",
       "            height=\"80\"\n",
       "            src=\"https://open.spotify.com/embed/track/2jSVBSUJwdI81JwXX7G3WF?frameborder=0&allowtransparency=true&allow=encrypted-media\"\n",
       "            frameborder=\"0\"\n",
       "            allowfullscreen\n",
       "            \n",
       "        ></iframe>\n",
       "        "
      ],
      "text/plain": [
       "<IPython.lib.display.IFrame at 0x12833dd50>"
      ]
     },
     "execution_count": 103,
     "metadata": {},
     "output_type": "execute_result"
    }
   ],
   "source": [
    "song_recommender()"
   ]
  },
  {
   "cell_type": "code",
   "execution_count": null,
   "id": "0541888f",
   "metadata": {},
   "outputs": [],
   "source": []
  },
  {
   "cell_type": "code",
   "execution_count": null,
   "id": "cde8eeae",
   "metadata": {},
   "outputs": [],
   "source": [
    "# paso a paso segunda parte antes de ingresarlo en la función...."
   ]
  },
  {
   "cell_type": "code",
   "execution_count": 63,
   "id": "70e925b6",
   "metadata": {
    "scrolled": true
   },
   "outputs": [
    {
     "name": "stdout",
     "output_type": "stream",
     "text": [
      "Please enter the name of a song:daddy cool\n"
     ]
    }
   ],
   "source": [
    "name = input(\"Please enter the name of a song:\").strip()"
   ]
  },
  {
   "cell_type": "code",
   "execution_count": 64,
   "id": "afe14cdb",
   "metadata": {},
   "outputs": [],
   "source": [
    "results = sp.search(q = name,limit=1)\n",
    "track_id = results[\"tracks\"][\"items\"][0][\"id\"]"
   ]
  },
  {
   "cell_type": "code",
   "execution_count": 65,
   "id": "91e92c34",
   "metadata": {},
   "outputs": [
    {
     "data": {
      "text/plain": [
       "[{'danceability': 0.763,\n",
       "  'energy': 0.777,\n",
       "  'key': 5,\n",
       "  'loudness': -6.932,\n",
       "  'mode': 0,\n",
       "  'speechiness': 0.0364,\n",
       "  'acousticness': 0.281,\n",
       "  'instrumentalness': 0.79,\n",
       "  'liveness': 0.134,\n",
       "  'valence': 0.929,\n",
       "  'tempo': 124.431,\n",
       "  'type': 'audio_features',\n",
       "  'id': '3WMbD1OyfKuwWDWMNbPQ4g',\n",
       "  'uri': 'spotify:track:3WMbD1OyfKuwWDWMNbPQ4g',\n",
       "  'track_href': 'https://api.spotify.com/v1/tracks/3WMbD1OyfKuwWDWMNbPQ4g',\n",
       "  'analysis_url': 'https://api.spotify.com/v1/audio-analysis/3WMbD1OyfKuwWDWMNbPQ4g',\n",
       "  'duration_ms': 208600,\n",
       "  'time_signature': 4}]"
      ]
     },
     "execution_count": 65,
     "metadata": {},
     "output_type": "execute_result"
    }
   ],
   "source": [
    "name_features = sp.audio_features(track_id)\n",
    "name_features"
   ]
  },
  {
   "cell_type": "code",
   "execution_count": 66,
   "id": "76339e3a",
   "metadata": {},
   "outputs": [
    {
     "data": {
      "text/plain": [
       "list"
      ]
     },
     "execution_count": 66,
     "metadata": {},
     "output_type": "execute_result"
    }
   ],
   "source": [
    "type(name_features)"
   ]
  },
  {
   "cell_type": "code",
   "execution_count": 67,
   "id": "b737b038",
   "metadata": {
    "scrolled": true
   },
   "outputs": [
    {
     "data": {
      "text/html": [
       "<div>\n",
       "<style scoped>\n",
       "    .dataframe tbody tr th:only-of-type {\n",
       "        vertical-align: middle;\n",
       "    }\n",
       "\n",
       "    .dataframe tbody tr th {\n",
       "        vertical-align: top;\n",
       "    }\n",
       "\n",
       "    .dataframe thead th {\n",
       "        text-align: right;\n",
       "    }\n",
       "</style>\n",
       "<table border=\"1\" class=\"dataframe\">\n",
       "  <thead>\n",
       "    <tr style=\"text-align: right;\">\n",
       "      <th></th>\n",
       "      <th>danceability</th>\n",
       "      <th>energy</th>\n",
       "      <th>key</th>\n",
       "      <th>loudness</th>\n",
       "      <th>mode</th>\n",
       "      <th>speechiness</th>\n",
       "      <th>acousticness</th>\n",
       "      <th>instrumentalness</th>\n",
       "      <th>liveness</th>\n",
       "      <th>valence</th>\n",
       "      <th>tempo</th>\n",
       "      <th>type</th>\n",
       "      <th>id</th>\n",
       "      <th>uri</th>\n",
       "      <th>track_href</th>\n",
       "      <th>analysis_url</th>\n",
       "      <th>duration_ms</th>\n",
       "      <th>time_signature</th>\n",
       "    </tr>\n",
       "  </thead>\n",
       "  <tbody>\n",
       "    <tr>\n",
       "      <th>0</th>\n",
       "      <td>0.763</td>\n",
       "      <td>0.777</td>\n",
       "      <td>5</td>\n",
       "      <td>-6.932</td>\n",
       "      <td>0</td>\n",
       "      <td>0.0364</td>\n",
       "      <td>0.281</td>\n",
       "      <td>0.79</td>\n",
       "      <td>0.134</td>\n",
       "      <td>0.929</td>\n",
       "      <td>124.431</td>\n",
       "      <td>audio_features</td>\n",
       "      <td>3WMbD1OyfKuwWDWMNbPQ4g</td>\n",
       "      <td>spotify:track:3WMbD1OyfKuwWDWMNbPQ4g</td>\n",
       "      <td>https://api.spotify.com/v1/tracks/3WMbD1OyfKuw...</td>\n",
       "      <td>https://api.spotify.com/v1/audio-analysis/3WMb...</td>\n",
       "      <td>208600</td>\n",
       "      <td>4</td>\n",
       "    </tr>\n",
       "  </tbody>\n",
       "</table>\n",
       "</div>"
      ],
      "text/plain": [
       "   danceability  energy  key  loudness  mode  speechiness  acousticness  \\\n",
       "0         0.763   0.777    5    -6.932     0       0.0364         0.281   \n",
       "\n",
       "   instrumentalness  liveness  valence    tempo            type  \\\n",
       "0              0.79     0.134    0.929  124.431  audio_features   \n",
       "\n",
       "                       id                                   uri  \\\n",
       "0  3WMbD1OyfKuwWDWMNbPQ4g  spotify:track:3WMbD1OyfKuwWDWMNbPQ4g   \n",
       "\n",
       "                                          track_href  \\\n",
       "0  https://api.spotify.com/v1/tracks/3WMbD1OyfKuw...   \n",
       "\n",
       "                                        analysis_url  duration_ms  \\\n",
       "0  https://api.spotify.com/v1/audio-analysis/3WMb...       208600   \n",
       "\n",
       "   time_signature  \n",
       "0               4  "
      ]
     },
     "execution_count": 67,
     "metadata": {},
     "output_type": "execute_result"
    }
   ],
   "source": [
    "df_name = pd.DataFrame(name_features)\n",
    "df_name"
   ]
  },
  {
   "cell_type": "code",
   "execution_count": 68,
   "id": "8c213c9d",
   "metadata": {},
   "outputs": [],
   "source": [
    "# DataFrame con solamente los valores necesarios, iguales al modelo"
   ]
  },
  {
   "cell_type": "code",
   "execution_count": 70,
   "id": "10221482",
   "metadata": {},
   "outputs": [],
   "source": [
    "X_name = df_name[['danceability', 'energy', 'key', 'loudness', 'mode', 'speechiness',\n",
    "       'acousticness', 'instrumentalness', 'liveness', 'valence', 'tempo', 'time_signature']]"
   ]
  },
  {
   "cell_type": "code",
   "execution_count": 71,
   "id": "b5c29e05",
   "metadata": {},
   "outputs": [
    {
     "data": {
      "text/html": [
       "<div>\n",
       "<style scoped>\n",
       "    .dataframe tbody tr th:only-of-type {\n",
       "        vertical-align: middle;\n",
       "    }\n",
       "\n",
       "    .dataframe tbody tr th {\n",
       "        vertical-align: top;\n",
       "    }\n",
       "\n",
       "    .dataframe thead th {\n",
       "        text-align: right;\n",
       "    }\n",
       "</style>\n",
       "<table border=\"1\" class=\"dataframe\">\n",
       "  <thead>\n",
       "    <tr style=\"text-align: right;\">\n",
       "      <th></th>\n",
       "      <th>danceability</th>\n",
       "      <th>energy</th>\n",
       "      <th>key</th>\n",
       "      <th>loudness</th>\n",
       "      <th>mode</th>\n",
       "      <th>speechiness</th>\n",
       "      <th>acousticness</th>\n",
       "      <th>instrumentalness</th>\n",
       "      <th>liveness</th>\n",
       "      <th>valence</th>\n",
       "      <th>tempo</th>\n",
       "      <th>time_signature</th>\n",
       "    </tr>\n",
       "  </thead>\n",
       "  <tbody>\n",
       "    <tr>\n",
       "      <th>0</th>\n",
       "      <td>0.763</td>\n",
       "      <td>0.777</td>\n",
       "      <td>5</td>\n",
       "      <td>-6.932</td>\n",
       "      <td>0</td>\n",
       "      <td>0.0364</td>\n",
       "      <td>0.281</td>\n",
       "      <td>0.79</td>\n",
       "      <td>0.134</td>\n",
       "      <td>0.929</td>\n",
       "      <td>124.431</td>\n",
       "      <td>4</td>\n",
       "    </tr>\n",
       "  </tbody>\n",
       "</table>\n",
       "</div>"
      ],
      "text/plain": [
       "   danceability  energy  key  loudness  mode  speechiness  acousticness  \\\n",
       "0         0.763   0.777    5    -6.932     0       0.0364         0.281   \n",
       "\n",
       "   instrumentalness  liveness  valence    tempo  time_signature  \n",
       "0              0.79     0.134    0.929  124.431               4  "
      ]
     },
     "execution_count": 71,
     "metadata": {},
     "output_type": "execute_result"
    }
   ],
   "source": [
    "X_name"
   ]
  },
  {
   "cell_type": "code",
   "execution_count": 72,
   "id": "fa0d8a1a",
   "metadata": {
    "scrolled": false
   },
   "outputs": [],
   "source": [
    "X_name_scaled = minmax.fit_transform(X_name)"
   ]
  },
  {
   "cell_type": "code",
   "execution_count": 73,
   "id": "83665d23",
   "metadata": {
    "scrolled": true
   },
   "outputs": [
    {
     "name": "stderr",
     "output_type": "stream",
     "text": [
      "/opt/anaconda3/lib/python3.11/site-packages/sklearn/base.py:439: UserWarning: X does not have valid feature names, but KMeans was fitted with feature names\n",
      "  warnings.warn(\n"
     ]
    }
   ],
   "source": [
    "cluster_sample = kmeans_15.predict(X_name_scaled)"
   ]
  },
  {
   "cell_type": "code",
   "execution_count": 74,
   "id": "253b4ea2",
   "metadata": {},
   "outputs": [
    {
     "data": {
      "text/plain": [
       "12"
      ]
     },
     "execution_count": 74,
     "metadata": {},
     "output_type": "execute_result"
    }
   ],
   "source": [
    "cluster_sample.item()"
   ]
  },
  {
   "cell_type": "code",
   "execution_count": 75,
   "id": "163655d0",
   "metadata": {},
   "outputs": [],
   "source": [
    "recommended_song = ds[ ds[\"cluster\"] == cluster_sample.item() ].sample()"
   ]
  },
  {
   "cell_type": "code",
   "execution_count": 76,
   "id": "256c145a",
   "metadata": {},
   "outputs": [
    {
     "data": {
      "text/plain": [
       "3505    55ELmnGoNDtJvmHylTumI3\n",
       "Name: id, dtype: object"
      ]
     },
     "execution_count": 76,
     "metadata": {},
     "output_type": "execute_result"
    }
   ],
   "source": [
    "track_id_recom = recommended_song[\"id\"]\n",
    "track_id_recom"
   ]
  },
  {
   "cell_type": "code",
   "execution_count": 77,
   "id": "4b6673d6",
   "metadata": {},
   "outputs": [
    {
     "data": {
      "text/plain": [
       "pandas.core.series.Series"
      ]
     },
     "execution_count": 77,
     "metadata": {},
     "output_type": "execute_result"
    }
   ],
   "source": [
    "type(track_id_recom)"
   ]
  },
  {
   "cell_type": "code",
   "execution_count": 78,
   "id": "455a9ff0",
   "metadata": {},
   "outputs": [
    {
     "data": {
      "text/plain": [
       "'55ELmnGoNDtJvmHylTumI3'"
      ]
     },
     "execution_count": 78,
     "metadata": {},
     "output_type": "execute_result"
    }
   ],
   "source": [
    "track_id = track_id_recom.item()\n",
    "track_id"
   ]
  },
  {
   "cell_type": "code",
   "execution_count": 79,
   "id": "8b03c08b",
   "metadata": {
    "scrolled": true
   },
   "outputs": [
    {
     "data": {
      "text/html": [
       "\n",
       "        <iframe\n",
       "            width=\"320\"\n",
       "            height=\"80\"\n",
       "            src=\"https://open.spotify.com/embed/track/55ELmnGoNDtJvmHylTumI3?frameborder=0&allowtransparency=true&allow=encrypted-media\"\n",
       "            frameborder=\"0\"\n",
       "            allowfullscreen\n",
       "            \n",
       "        ></iframe>\n",
       "        "
      ],
      "text/plain": [
       "<IPython.lib.display.IFrame at 0x1280cf050>"
      ]
     },
     "execution_count": 79,
     "metadata": {},
     "output_type": "execute_result"
    }
   ],
   "source": [
    "play_song(track_id)"
   ]
  },
  {
   "cell_type": "code",
   "execution_count": null,
   "id": "7f921c34",
   "metadata": {},
   "outputs": [],
   "source": []
  }
 ],
 "metadata": {
  "kernelspec": {
   "display_name": "Python 3 (ipykernel)",
   "language": "python",
   "name": "python3"
  },
  "language_info": {
   "codemirror_mode": {
    "name": "ipython",
    "version": 3
   },
   "file_extension": ".py",
   "mimetype": "text/x-python",
   "name": "python",
   "nbconvert_exporter": "python",
   "pygments_lexer": "ipython3",
   "version": "3.11.7"
  }
 },
 "nbformat": 4,
 "nbformat_minor": 5
}
